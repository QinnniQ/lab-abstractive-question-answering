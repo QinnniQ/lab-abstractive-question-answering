{
  "cells": [
    {
      "cell_type": "markdown",
      "metadata": {
        "id": "O7KBOS0yO_mi"
      },
      "source": [
        "# LAB | Abstractive Question Answering"
      ]
    },
    {
      "cell_type": "markdown",
      "metadata": {
        "id": "WL4goh8fPC5l"
      },
      "source": [
        "Abstractive question-answering focuses on the generation of multi-sentence answers to open-ended questions. It usually works by searching massive document stores for relevant information and then using this information to synthetically generate answers. This notebook demonstrates how Pinecone helps you build an abstractive question-answering system. We need three main components:\n",
        "\n",
        "- A vector index to store and run semantic search\n",
        "- A retriever model for embedding context passages\n",
        "- A generator model to generate answers"
      ]
    },
    {
      "cell_type": "markdown",
      "metadata": {
        "id": "n6uNNJmuPIVT"
      },
      "source": [
        "# Install Dependencies"
      ]
    },
    {
      "cell_type": "code",
      "execution_count": 1,
      "metadata": {
        "colab": {
          "base_uri": "https://localhost:8080/"
        },
        "id": "ZINfOdPyJHBZ",
        "outputId": "8083831b-8061-4c2a-8262-4a9ce0e197b7"
      },
      "outputs": [
        {
          "name": "stdout",
          "output_type": "stream",
          "text": [
            "Note: you may need to restart the kernel to use updated packages.\n"
          ]
        }
      ],
      "source": [
        "pip install -qU datasets pinecone-client==3.1.0 sentence-transformers torch"
      ]
    },
    {
      "cell_type": "markdown",
      "metadata": {
        "id": "y0EU4eIbPTTL"
      },
      "source": [
        "# Load and Prepare Dataset"
      ]
    },
    {
      "cell_type": "markdown",
      "metadata": {
        "id": "USvwSnsDvrdz"
      },
      "source": [
        "Our source data will be taken from the Wiki Snippets dataset, which contains over 17 million passages from Wikipedia. But, since indexing the entire dataset may take some time, we will only utilize 50,000 passages in this demo that include \"History\" in the \"section title\" column. If you want, you may utilize the complete dataset. Pinecone vector database can effortlessly manage millions of documents for you."
      ]
    },
    {
      "cell_type": "code",
      "execution_count": 2,
      "metadata": {
        "colab": {
          "base_uri": "https://localhost:8080/",
          "height": 138,
          "referenced_widgets": [
            "38386117db7a4d5aa6b6c0f5e9dd6a95",
            "56824744d88c451e9513883e0fab366a",
            "96368ebe17894a789353ccc74c8b3c90",
            "11d80713fc664fe389dcb7ce922b7d11",
            "5e63fc25ca524e67b2bb6cbaf9984692",
            "8361983ba251430e9fd4bd59f42b27e7",
            "41eebeac49f940d1a89484dacf8dc32e",
            "c610b0ad02634ddf8f19b0a8ab9048e5",
            "a4b2f0bd3d6344f2856e39c275c0f9aa",
            "4382b0f89c3242f3a5d3e202c5a113e2",
            "2165da93b5d642a18fca7497c303532c"
          ]
        },
        "id": "bShG-f5IPPtG",
        "outputId": "4acffcb6-35a5-49cf-ebc6-66f1870ff612"
      },
      "outputs": [
        {
          "name": "stderr",
          "output_type": "stream",
          "text": [
            "c:\\Users\\nicho\\AppData\\Local\\Programs\\Python\\Python313\\Lib\\site-packages\\tqdm\\auto.py:21: TqdmWarning: IProgress not found. Please update jupyter and ipywidgets. See https://ipywidgets.readthedocs.io/en/stable/user_install.html\n",
            "  from .autonotebook import tqdm as notebook_tqdm\n"
          ]
        },
        {
          "name": "stdout",
          "output_type": "stream",
          "text": [
            "Whether grainy movie reels featuring marching armies of khaki-clad soldiers heading towards the front line or harrowing images that reveal the aftermath in bloody detail, World War One was among the first to be documented in photos and on film. Now a new exhibition is to combine rarely seen photos of men and women fighting in the Great War with a series of harrowing artworks that shed light on the human tragedy that ensued. The Great War in Portraits, which debuts at the National Portrait Gallery next month, also tells the stories of some of the most fascinating participants, among them a Russian female soldier, a British nurse executed by the Germans and the first Nepalese recipient of the Victoria Cross. The Gassed and Wounded: Eric Kennington's 1918 work was based on sketches made on the front line . Harrowing: Two of the portraits from Henry Tonks' series, Soldiers With Facial Wounds . Others, among them the striking Henry Tonks' series, Soldiers With Facial Wounds, document the experience of disfigured British soldiers and their treatment in the hands of Dr Harold Gilles - one of the founding fathers of modern cosmetic surgery. His techniques, pioneered at the Cambridge Hospital at Aldershot and The Queen's Hospital in Sidcup, were used to reconstruct the faces of injured soldiers, with Tonks on hand to provide the before and after shots. Equally startling is Gilbert Rogers 1919 effort, The Dead Stretcher Bearer, which was commissioned by the government-sponsored Committee for the Medical History of the War. Charged with recording the medical consequences of the war, Rogers, who served with the Royal Army Medical Corps, offers a painfully frank account of the risks faced by both soldiers and support staff. Harrowing: William Orpen's 1917 work, The Receiving Room: the 42nd Stationary Hospital . Record: Gilbert Rogers was commissioned to paint The Dead Stretcher Bearer in 1919 . But not every soldier to appear in the new exhibition does so through an artists' gaze. Many more peer shyly out of the exhibition's vast collection of photographs. And it's not just men: some of World War One's female participants feature, among them Mata Hari, the exotic Dutch dancer executed by the French after being accused of spying for the Germans, and Maria Bochkareva, a Russian peasant woman who became a soldier with the blessing of Tsar Nicholas. Although badly injured in 1916, Bochkareva later went on to form the 2,000-strong 1st Russian Women’s Battalion of Death in 1917. Sadly ,after the Bolshevik Revolution ended Russia's involvement in the Great War, Bochkareva was deemed surplus to requirements and was executed in 1920 by the Communist regime. Another woman to suffer a similar fate was British nurse, Edith Cavell, whose daguerreotype portrait also appears in the exhibition. Executed: Maria Bochkareva died at the hands of the Bolsheviks while Mata Hari was killed by the French . Brave: British nurse Edith Cavell ran a network of safe houses for Allied soldiers but was executed in 1915 . Her story began in the village of Swardeston in Norfolk, where she grew up before moving to London to train as a nurse in 1896. In 1907, she moved to Brussels to become the director of a training school for nurses but was caught behind enemy lines after the German invasion of Belgium in 1914. The school became part of a network of safe houses created to shelter Allied soldiers before smuggling them into the Netherlands. Less than a year after the invasion, Cavell was caught by the Germans and on the 12th October 1915, she was executed by firing squad. Her final words were, 'I am glad to die for my country.' Unlike Cavell, not every soldier fighting in the war did battle on behalf of the country of his birth. As the exhibition makes plain, many troops fighting for Britain hailed from the Commonwealth. In addition to 100,000 formidable, knife-wielding Gurkhas, troops from India, Australia, Uganda and New Zealand went into battle alongside their British brethren. Kulbir Thapa was the first Nepalese soldier to win the Victoria Cross . Shahamad Khan, a Punjabi Muslim, also won the UK's highest military honour . Private Ivor Evans, from Swansea, enlisted at 15 and was killed aged 18 . Captured: This German soldier was taken prisoner by Scottish and South African troops at Passchendaele . Among them was Kulbir Thapa, the first Nepalese recipient of the Victoria Cross, whose heroics saved the lives of three injured comrades during the 1915 Battle of Loos. Another was Shamad Khan, a Punjabi Muslim serving in the 89th Punjabis, British Indian Army, who earned a Victoria Cross while fighting on the Tigris Front. Equally brave were British recipients of the UK's highest military honour, among them Private Reginald Roy Inwood who won his for capturing an enemy strong point and nine prisoners single-handedly. Peering out of grainy black and white photos, the portraits of Private Inwood and his comrades offer a very human perspective of what turned out to be a spectacularly inhuman struggle. Portraits of the Great War, National Portrait Gallery (npg.org.uk), from February .\n"
          ]
        }
      ],
      "source": [
        "from datasets import load_dataset\n",
        "\n",
        "streamed_data = load_dataset(\"cnn_dailymail\", \"3.0.0\", split=\"train\", streaming=True).shuffle(seed=42)\n",
        "\n",
        "history = streamed_data.filter(lambda example: \"history\" in example[\"article\"].lower())\n",
        "\n",
        "sample = next(iter(history))\n",
        "print(sample[\"article\"])\n",
        "\n"
      ]
    },
    {
      "cell_type": "markdown",
      "metadata": {
        "id": "MoPdaLFAvvci"
      },
      "source": [
        "We are loading the dataset in the streaming mode so that we don't have to wait for the whole dataset to download (which is over 9GB). Instead, we iteratively download records one at a time."
      ]
    },
    {
      "cell_type": "code",
      "execution_count": 3,
      "metadata": {
        "colab": {
          "base_uri": "https://localhost:8080/"
        },
        "id": "VLjXCwKevy4K",
        "outputId": "7efd7af5-b98d-46da-db42-6046b13e05a3"
      },
      "outputs": [
        {
          "data": {
            "text/plain": [
              "{'article': \"Whether grainy movie reels featuring marching armies of khaki-clad soldiers heading towards the front line or harrowing images that reveal the aftermath in bloody detail, World War One was among the first to be documented in photos and on film. Now a new exhibition is to combine rarely seen photos of men and women fighting in the Great War with a series of harrowing artworks that shed light on the human tragedy that ensued. The Great War in Portraits, which debuts at the National Portrait Gallery next month, also tells the stories of some of the most fascinating participants, among them a Russian female soldier, a British nurse executed by the Germans and the first Nepalese recipient of the Victoria Cross. The Gassed and Wounded: Eric Kennington's 1918 work was based on sketches made on the front line . Harrowing: Two of the portraits from Henry Tonks' series, Soldiers With Facial Wounds . Others, among them the striking Henry Tonks' series, Soldiers With Facial Wounds, document the experience of disfigured British soldiers and their treatment in the hands of Dr Harold Gilles - one of the founding fathers of modern cosmetic surgery. His techniques, pioneered at the Cambridge Hospital at Aldershot and The Queen's Hospital in Sidcup, were used to reconstruct the faces of injured soldiers, with Tonks on hand to provide the before and after shots. Equally startling is Gilbert Rogers 1919 effort, The Dead Stretcher Bearer, which was commissioned by the government-sponsored Committee for the Medical History of the War. Charged with recording the medical consequences of the war, Rogers, who served with the Royal Army Medical Corps, offers a painfully frank account of the risks faced by both soldiers and support staff. Harrowing: William Orpen's 1917 work, The Receiving Room: the 42nd Stationary Hospital . Record: Gilbert Rogers was commissioned to paint The Dead Stretcher Bearer in 1919 . But not every soldier to appear in the new exhibition does so through an artists' gaze. Many more peer shyly out of the exhibition's vast collection of photographs. And it's not just men: some of World War One's female participants feature, among them Mata Hari, the exotic Dutch dancer executed by the French after being accused of spying for the Germans, and Maria Bochkareva, a Russian peasant woman who became a soldier with the blessing of Tsar Nicholas. Although badly injured in 1916, Bochkareva later went on to form the 2,000-strong 1st Russian Women’s Battalion of Death in 1917. Sadly ,after the Bolshevik Revolution ended Russia's involvement in the Great War, Bochkareva was deemed surplus to requirements and was executed in 1920 by the Communist regime. Another woman to suffer a similar fate was British nurse, Edith Cavell, whose daguerreotype portrait also appears in the exhibition. Executed: Maria Bochkareva died at the hands of the Bolsheviks while Mata Hari was killed by the French . Brave: British nurse Edith Cavell ran a network of safe houses for Allied soldiers but was executed in 1915 . Her story began in the village of Swardeston in Norfolk, where she grew up before moving to London to train as a nurse in 1896. In 1907, she moved to Brussels to become the director of a training school for nurses but was caught behind enemy lines after the German invasion of Belgium in 1914. The school became part of a network of safe houses created to shelter Allied soldiers before smuggling them into the Netherlands. Less than a year after the invasion, Cavell was caught by the Germans and on the 12th October 1915, she was executed by firing squad. Her final words were, 'I am glad to die for my country.' Unlike Cavell, not every soldier fighting in the war did battle on behalf of the country of his birth. As the exhibition makes plain, many troops fighting for Britain hailed from the Commonwealth. In addition to 100,000 formidable, knife-wielding Gurkhas, troops from India, Australia, Uganda and New Zealand went into battle alongside their British brethren. Kulbir Thapa was the first Nepalese soldier to win the Victoria Cross . Shahamad Khan, a Punjabi Muslim, also won the UK's highest military honour . Private Ivor Evans, from Swansea, enlisted at 15 and was killed aged 18 . Captured: This German soldier was taken prisoner by Scottish and South African troops at Passchendaele . Among them was Kulbir Thapa, the first Nepalese recipient of the Victoria Cross, whose heroics saved the lives of three injured comrades during the 1915 Battle of Loos. Another was Shamad Khan, a Punjabi Muslim serving in the 89th Punjabis, British Indian Army, who earned a Victoria Cross while fighting on the Tigris Front. Equally brave were British recipients of the UK's highest military honour, among them Private Reginald Roy Inwood who won his for capturing an enemy strong point and nine prisoners single-handedly. Peering out of grainy black and white photos, the portraits of Private Inwood and his comrades offer a very human perspective of what turned out to be a spectacularly inhuman struggle. Portraits of the Great War, National Portrait Gallery (npg.org.uk), from February .\",\n",
              " 'highlights': 'The Great War in Portraits opens next month at the National Portrait Gallery .\\nIncludes a mixture of paintings and photos charting human side of the war .\\nAlso reveals stories of some of the women who participated on both sides .',\n",
              " 'id': 'a523cc8465b16a227ff79f14e971308330cfaee7'}"
            ]
          },
          "execution_count": 3,
          "metadata": {},
          "output_type": "execute_result"
        }
      ],
      "source": [
        "# show the contents of a single document in the dataset\n",
        "next(iter(history))"
      ]
    },
    {
      "cell_type": "code",
      "execution_count": 4,
      "metadata": {
        "id": "yHYNM6VXv1MJ"
      },
      "outputs": [],
      "source": [
        "# Filter articles that mention \"history\" in the article text\n",
        "history = streamed_data.filter(lambda example: \"history\" in example[\"article\"].lower())\n",
        "\n"
      ]
    },
    {
      "cell_type": "markdown",
      "metadata": {
        "id": "_8sTBqS0v4RM"
      },
      "source": [
        "Let's iterate through the dataset and apply our filter to select the 50,000 historical passages. We will extract `article_title`, `section_title` and `passage_text` from each document."
      ]
    },
    {
      "cell_type": "code",
      "execution_count": 5,
      "metadata": {
        "colab": {
          "base_uri": "https://localhost:8080/",
          "height": 66,
          "referenced_widgets": [
            "8dc49ab5754a48a29e14c1b93f697835",
            "aeadb5cba0d3480d84316c327eeecb35",
            "71be3d9fbdaf4af6a7c33e7c2590a872",
            "05ab9bbd11a84630ba83ec19b598d4e4",
            "4f8e93b6c6354434997475440bd6b0ec",
            "6b1c98099e484db6b6ced7e067db8fc4",
            "59ac39e569a64a1d85b5fc116eef3ec6",
            "c0615e8f021842729a813f72a8abf051",
            "80d5940b10324edd806c59e9bdf4f840",
            "5b9ae700d48547039cf2a46fa35a70ea",
            "5b2350a5c5ac44878eef889f0a320e63"
          ]
        },
        "id": "Ob0prowIzjJ9",
        "outputId": "929adf3b-b8ad-4e79-c862-c006a71291c8"
      },
      "outputs": [
        {
          "name": "stderr",
          "output_type": "stream",
          "text": [
            " 59%|█████▉    | 29446/50000 [00:26<00:18, 1128.05it/s]\n"
          ]
        }
      ],
      "source": [
        "from tqdm.auto import tqdm  # progress bar\n",
        "\n",
        "total_doc_count = 50000\n",
        "\n",
        "counter = 0\n",
        "docs = []\n",
        "\n",
        "# Iterate through the filtered articles\n",
        "for d in tqdm(history, total=total_doc_count):\n",
        "    # cnn_dailymail doesn't have article_title or section_title\n",
        "    article_title = \"CNN/DailyMail Article\"\n",
        "    section_title = \"History-related\"\n",
        "    passage_text = d[\"article\"]  # this is the actual passage\n",
        "\n",
        "    docs.append({\n",
        "        \"article_title\": article_title,\n",
        "        \"section_title\": section_title,\n",
        "        \"passage_text\": passage_text\n",
        "    })\n",
        "\n",
        "    counter += 1\n",
        "    if counter >= total_doc_count:\n",
        "        print(\"Reached 50,000 documents.\")\n",
        "        break\n"
      ]
    },
    {
      "cell_type": "code",
      "execution_count": 6,
      "metadata": {
        "colab": {
          "base_uri": "https://localhost:8080/",
          "height": 53
        },
        "id": "RvTA40mq5FKj",
        "outputId": "3d870349-d2b4-4305-8236-4672a9e332ff"
      },
      "outputs": [
        {
          "data": {
            "application/vnd.microsoft.datawrangler.viewer.v0+json": {
              "columns": [
                {
                  "name": "index",
                  "rawType": "int64",
                  "type": "integer"
                },
                {
                  "name": "article_title",
                  "rawType": "object",
                  "type": "string"
                },
                {
                  "name": "section_title",
                  "rawType": "object",
                  "type": "string"
                },
                {
                  "name": "passage_text",
                  "rawType": "object",
                  "type": "string"
                }
              ],
              "ref": "081f7194-6024-495b-bebe-9b1cb4c9ad5c",
              "rows": [
                [
                  "0",
                  "CNN/DailyMail Article",
                  "History-related",
                  "Whether grainy movie reels featuring marching armies of khaki-clad soldiers heading towards the front line or harrowing images that reveal the aftermath in bloody detail, World War One was among the first to be documented in photos and on film. Now a new exhibition is to combine rarely seen photos of men and women fighting in the Great War with a series of harrowing artworks that shed light on the human tragedy that ensued. The Great War in Portraits, which debuts at the National Portrait Gallery next month, also tells the stories of some of the most fascinating participants, among them a Russian female soldier, a British nurse executed by the Germans and the first Nepalese recipient of the Victoria Cross. The Gassed and Wounded: Eric Kennington's 1918 work was based on sketches made on the front line . Harrowing: Two of the portraits from Henry Tonks' series, Soldiers With Facial Wounds . Others, among them the striking Henry Tonks' series, Soldiers With Facial Wounds, document the experience of disfigured British soldiers and their treatment in the hands of Dr Harold Gilles - one of the founding fathers of modern cosmetic surgery. His techniques, pioneered at the Cambridge Hospital at Aldershot and The Queen's Hospital in Sidcup, were used to reconstruct the faces of injured soldiers, with Tonks on hand to provide the before and after shots. Equally startling is Gilbert Rogers 1919 effort, The Dead Stretcher Bearer, which was commissioned by the government-sponsored Committee for the Medical History of the War. Charged with recording the medical consequences of the war, Rogers, who served with the Royal Army Medical Corps, offers a painfully frank account of the risks faced by both soldiers and support staff. Harrowing: William Orpen's 1917 work, The Receiving Room: the 42nd Stationary Hospital . Record: Gilbert Rogers was commissioned to paint The Dead Stretcher Bearer in 1919 . But not every soldier to appear in the new exhibition does so through an artists' gaze. Many more peer shyly out of the exhibition's vast collection of photographs. And it's not just men: some of World War One's female participants feature, among them Mata Hari, the exotic Dutch dancer executed by the French after being accused of spying for the Germans, and Maria Bochkareva, a Russian peasant woman who became a soldier with the blessing of Tsar Nicholas. Although badly injured in 1916, Bochkareva later went on to form the 2,000-strong 1st Russian Women’s Battalion of Death in 1917. Sadly ,after the Bolshevik Revolution ended Russia's involvement in the Great War, Bochkareva was deemed surplus to requirements and was executed in 1920 by the Communist regime. Another woman to suffer a similar fate was British nurse, Edith Cavell, whose daguerreotype portrait also appears in the exhibition. Executed: Maria Bochkareva died at the hands of the Bolsheviks while Mata Hari was killed by the French . Brave: British nurse Edith Cavell ran a network of safe houses for Allied soldiers but was executed in 1915 . Her story began in the village of Swardeston in Norfolk, where she grew up before moving to London to train as a nurse in 1896. In 1907, she moved to Brussels to become the director of a training school for nurses but was caught behind enemy lines after the German invasion of Belgium in 1914. The school became part of a network of safe houses created to shelter Allied soldiers before smuggling them into the Netherlands. Less than a year after the invasion, Cavell was caught by the Germans and on the 12th October 1915, she was executed by firing squad. Her final words were, 'I am glad to die for my country.' Unlike Cavell, not every soldier fighting in the war did battle on behalf of the country of his birth. As the exhibition makes plain, many troops fighting for Britain hailed from the Commonwealth. In addition to 100,000 formidable, knife-wielding Gurkhas, troops from India, Australia, Uganda and New Zealand went into battle alongside their British brethren. Kulbir Thapa was the first Nepalese soldier to win the Victoria Cross . Shahamad Khan, a Punjabi Muslim, also won the UK's highest military honour . Private Ivor Evans, from Swansea, enlisted at 15 and was killed aged 18 . Captured: This German soldier was taken prisoner by Scottish and South African troops at Passchendaele . Among them was Kulbir Thapa, the first Nepalese recipient of the Victoria Cross, whose heroics saved the lives of three injured comrades during the 1915 Battle of Loos. Another was Shamad Khan, a Punjabi Muslim serving in the 89th Punjabis, British Indian Army, who earned a Victoria Cross while fighting on the Tigris Front. Equally brave were British recipients of the UK's highest military honour, among them Private Reginald Roy Inwood who won his for capturing an enemy strong point and nine prisoners single-handedly. Peering out of grainy black and white photos, the portraits of Private Inwood and his comrades offer a very human perspective of what turned out to be a spectacularly inhuman struggle. Portraits of the Great War, National Portrait Gallery (npg.org.uk), from February ."
                ],
                [
                  "1",
                  "CNN/DailyMail Article",
                  "History-related",
                  "THE FINAL SEASON by Nigel McCrery (Random House £14.99) Most of us are familiar with one football-related story from World War I — that during the so-called Christmas truce of 1914, British and German troops played each other along the Western Front. Football was the ‘common denominator that drew the two sides together for a few hours of peace and humanity amid the horrors of war’, writes Nigel McCrery in this fascinating book. He provides evidence that British Tommies lost one game 3‑2: ‘We can assume the Germans won on penalties,’ he adds, wryly. Celtic's William Angus showed true courage by saving a comrade's life . Already, by Christmas Day, 1914, Britain’s dead included some of the nation’s most feted footballers. In telling their stories, and those of the other players who perished, McCrery offers a new perspective on the conflict itself. There is Leigh Richmond Roose, the Welsh international once known as ‘the Prince of Goalkeepers’, an incorrigible entertainer who would sit on the crossbar at half-time, bantering with the crowd. He was also famously handsome — the Daily Mail called him ‘London’s most eligible bachelor’ — and was ‘close’ to the music hall star Marie Lloyd. Roose, who studied medicine at King’s College London, went with the Royal Army Medical Corps to Gallipoli. For many years, it was assumed, even by his family, that he died there. But he didn’t. He joined the 9th Royal Fusiliers as a humble private, evidently because he wanted to fight even more than he wanted to treat the wounded. He died the following summer on the Somme, but not before showing great heroism, and more than a little evidence of his goalkeeping skills, in resisting an attack by German troops armed with flame-throwers. According to the regimental history, Roose, though choking and burnt, ‘continued to throw bombs until his arm gave out’. Not all of these heroic former footballers died. McCrery tells the remarkable story of Corporal Willie Angus, the former Celtic player. In June 1915, he volunteered to crawl out, under constant fire and at the cost of his left eye and right foot, almost to the German lines to retrieve a badly-wounded officer, Lieutenant James Martin. Two months later, King George V presented him with the Victoria Cross. Even more thrillingly, perhaps, he received standing ovations from huge crowds at Celtic Park and Ibrox, home of Celtic’s bitter rivals Glasgow Rangers — on the very same day. Angus and Martin remained great friends for their rest of their lives. Martin died in 1956, Angus three years later. Another who survived the war, but not to play football again, was Pat Crossan, a Heart of Midlothian player famed for his incredible speed, and so devastatingly good-looking (or so he claimed) he used to boast that women came to matches just to see him. ‘Pat can maybe pass the ball, but he couldn’t pass a mirror if he tried,’ one of his teammates once joked. In a field hospital at the Somme, Crossan came within minutes of having his left foot amputated. It was saved by a captured German surgeon. 213 professional players fell in action in WW1 . The tales of these men before (and, in some cases, after) the war give this book a hugely poignant punch. The background story of football itself is also enthralling, for then, as now, those playing it professionally seemed to be the most gilded of young men. In 1914, there were almost 4,500 professional players in Britain, the best of them earning £4 a week legitimately, but much more ‘under the table’. By definition, they were among the fittest of their generation, yet few of them joined up at the outbreak of war, since Football Association secretary Frederick Wallhad decreed that (unlike rugby and cricket) the season would continue regardless. A few weeks later, author Sir Arthur Conan Doyle (McCrery neglects to tell us Sherlock Holmes’s creator was an former goalkeeper) weighed in, appealing to footballers to fight for their country. Still they didn’t, causing widespread dismay. All of the 16th Royal Scots Battalion Football Team were either gassed or wounded in battle, with some later dying from their injuries . Then, as now, those governing football seemed to be a law unto themselves. However, the impasse was broken when 16 players for Hearts, then leading the Scottish First Division, joined a new battalion, the 16th Royal Scots. The next day, an English MP, William Joynson-Hicks, decided to raise a battalion of footballers, the 17th Middlesex. The 16th Royal Scots regiment, pictured in 195, were also keen footballers including Ducan Currie (far left) and Ernie Ellis (third from far left) Needless to say, they prospered in the inter-army football tournament, beating the 34th Brigade Royal Field Artillery 11-0 in the 1916 final. They distinguished themselves on the battlefield, too, but with significant losses. As for the 16th Royal Scots, machine-gun fire on the Somme yielded a terrible statistic: Hearts lost three of their finest players, Henry Wattie, Duncan Currie and Ernest Ellis, in under a minute. For those of us who love football, and still more for those who make fortunes playing it, all this sacrifice should offer considerable food for thought. Gary Lineker says as much in a thoughtful foreword. And, while McCrery’s book is not perfect, with a slightly ponderous prose style at times, I wish with all my heart a copy could be given to every Premier League player as he embarks on negotiations for another £20,000 a week. Order at www.mailbookshop.co.uk, p&p is free for a limited time only."
                ],
                [
                  "2",
                  "CNN/DailyMail Article",
                  "History-related",
                  "Phone companies have revealed the cost of using mobiles and land-lines will 'inevitably' rise if Scotland leaves the UK . Phone bills are set to rise for millions of Scots if the country votes for independence next week. BT and a host of telecoms firms are to set out plans that mean higher costs for almost every Scottish family will be ‘inevitable’. It comes on top of mounting evidence that the cost of living for families in Scotland will soar after independence. Major stores including Asda and Next warned that prices on essentials such as bread, milk and children’s clothes will rise. The boss of Iceland has now added his voice to growing concerns, saying he would ‘panic’ if Scotland voted Yes. And figures published yesterday showed that fears of a split have led to more than £17billion being pulled out of the UK in the last month. It is the largest amount of money moved out of Britain in a single month since the collapse of Lehman Brothers in 2008. More than £127billion has been pulled out of the UK’s stock markets and debt markets so far this year, according to figures from consultancy CrossBorder Capital. Swiss banking giant UBS also warned that Scotland’s economy could shrink by as much as 5 per cent if it votes to leave. The cost of landlines, mobile phones and internet will increase in Scotland, a host of firms will say before the vote. BT is in talks with mobile providers Vodafone, EE and O2 as well as TalkTalk about issuing a joint statement warning of the implications of separation. It will be released over the weekend or early next week. The cost of installing broadband cables or mobile phone masts are already higher in Scotland because of the distances involved. Currently these are subsidised by the rest of the UK, but an independent Scotland would be likely to have its own separate pricing structure. A draft of the letter was yesterday said to warn of ‘the inevitability of cost increases’. Several companies are waiting to see the final wording before agreeing to sign. The announcement adds to mounting evidence the cost of living for families in Scotland is likely to soar if the country chooses to leave the UK on September 18 . The talks are being led by BT chairman Sir Mike Rake, who is also president of business lobby group the CBI. BT, Vodafone, O2 and TalkTalk refused to comment but an EE spokesman said: ‘Independence is entirely an issue for the Scottish people. Any political changes could of course add complexity to our operations and for this reason we are keeping a close eye on the referendum. ‘We remain fully committed to our network, employees and customers in Scotland.’ A separate letter warning of price rises by a host of retailers is also set to be published before the vote on Thursday. The traditional white, red and blue of the Union Flag could be replaced by yellow, red and black if Scotland votes Yes. The Flag Institute has drawn up a new design that shows the cross of St Andrew replaced by elements of the St David’s flag. The flag institute has drawn up a design for a potential new flag if Scotland leaves the union . Written by Sir Ian Cheshire, boss of B&Q owner Kingfisher, the letter has also been signed by the chiefs of Marks & Spencer, John Lewis and Asda. John Lewis chairman Sir Charlie Mayfield this week warned that the department store would be forced to pass on higher costs of operating in an independent Scotland. Iceland boss Malcolm Walker, whose chain has 71 stores and a major distribution centre in Scotland and employs more than 2,000 people, said his first response to a Yes vote would be to ‘panic!’. ‘The consequences will be just massive,’ he told Channel 4 News. ‘To be perfectly honest with you, we didn’t take it too seriously. 'I don’t think anybody for one moment considered that there would be a Yes vote.’ Large Scottish banks including RBS and Lloyds have drawn up contingency plans to move their registered offices South. UBS said an independent Scotland would shed jobs and tax revenues. Economists at the bank said: ‘Until there is clarity over the currency arrangements and the banking system, Scotland is likely to suffer some degree of a credit crunch. ‘Scottish GDP would suffer a one-off contraction of somewhere between four per cent and five per cent as half of the banking sector moves to Britain before independence.’ A spokesman from Deutsche Bank said last night that ‘a Yes vote would go down in history as a political and economic mistake as large as Winston Churchill’s decision in 1925 to return the pound to the Gold Standard or the failure of the Federal Reserve to provide sufficient liquidity to the US banking system, which we now know brought on the Great Depression in the US’."
                ],
                [
                  "3",
                  "CNN/DailyMail Article",
                  "History-related",
                  "A 14-year-old Florida boy had been bullied for years leading up to his Wednesday night suicide said an attorney for his family. Attorney Matt Morgan said the 14-year-old boy who committed suicide Wednesday had long been the victim of bullying . The Greenwood Lakes Middle School student had been 'a small child due to health complications at an early age,' attorney Matt Morgan told reporters. 'This made him an easy target for cruel and mean-spirited bullies,' he added. Morgan told ClickOrlando that the boy's history of being bullied in New York was one reason the family moved to Florida. But the torture continued until this week's tragedy. 'The conduct of these bullies is morally reprehensible,' Morgan said. 'Bullying has become an epidemic in our country which needs to be . recognized and acted upon.' A news conference to further address the death will be held at 9 a.m. Monday. Those gathered will include Tricia Norman, who's daughter Rebecca Sedwick killed herself after being bullied. The 14-year-old boy was discovered dead from a self-inflicted gunshot wound in a middle school bathroom Wednesday night. According . to Seminole County Sheriff's Office, the child's mother drove to . Greenwood Lakes Middle School in Lake Mary to pick up her son at around . 5pm, but could not find him. The . boy's family then set out scouring the neighborhood for him, but to no . avail. Two hours later, the 14-year-old was reported missing to police. According to Seminole County Sheriff's Office, the child's mother drove to Greenwood Lakes Middle School in Lake Mary to pick up her son at around 5pm, but could not find him . Sheriff's . deputies were dispatched to Greenwood Lakes Middle School to search the . campus, where they eventually came upon the missing boy, who was found . in a men's room stall with a bullet wound to the head. The grisly discovery was made four hours after the middle-schooler was reported missing by his mother, WESH-TV reported. Greenwood . Lakes Principal Debra Abbott released a statement on the school’s . website and Facebook page announcing the student’s death. ‘Our thoughts and prayers are with the parents and family of the student as they deal with this tremendous personal loss. ‘Grief . Counselors will be available on-site for students and staff beginning . first thing this morning and will remain for as long as necessary,’ the . open letter read. Tragic find: A 14-year-old boy attending Greenwood Lakes Middle School in Lake Mary, Florida, was discovered dead from a self-inflicted gunshot wound in a bathroom stall on campus . Police are now trying to determine how the teenager got his hands on a firearm. His name has not been released to the public. Channel 9 reported that it has been suggested that the boy might have been bullied, but the investigation into a possible motive is ongoing. Classes resumed as normal Thursday, but the school canceled its open house scheduled for the evening, along with all after-school activities. Parent Nadine Weaver told Orlando Sentinel that after hearing the tragic news of the boy’s death this morning, she rushed to Greenwood Lakes and pulled her daughter from class early. ‘I hate for her to miss another day of school but I just can't help it,’ Weaver said. ‘It could be someone that she knows personally, and how could I be at home [and] leave her here, just not knowing.’ • For confidential help, call the National Suicide Prevention Lifeline at 1-800-273-8255 or click here . • For confidential support on suicide matters in the UK, call the Samaritans on 08457 90 90 90, visit a local Samaritans branch or click here ."
                ],
                [
                  "4",
                  "CNN/DailyMail Article",
                  "History-related",
                  "Advertising magnate Lord Maurice Saatchi has spoken of the unbearable grief of losing his wife to cancer and how he visits her tomb each morning to have breakfast with her. The 66-year-old says Josephine Hart’s death has been so painful for him that he still sets a place out for her during meal times. And in the morning he arranges the papers in the order in which the bestselling author liked to read them. Tragic: Lord Maurice Saatchi with his late wife Josephine Hart in 2005, six years before she died of cancer . Lord Saatchi in 1991 and his late wife Josephine Hart, in 1989. The pair married in 1984 when Hart was 37 . Hart, an Irish-born writer and poet, died from ovarian cancer in June last year, after keeping her health problems a secret for two years. Saatchi told the Sunday Times: ‘I’ve never experienced grief before; this is an incomparable nightmare.’ Every morning when he is staying at their home in West Sussex, he drives to his wife’s tomb, marked J&M, at the end of the lake and eats a grapefruit cocktail. At meal times the Tory peer behaves as if she were still there. He said: ‘I have thought, that this is close to madness.’ But in the moving interview, he rejected the idea that those suffering from bereavement need to move on. He added: ‘In my view, to move on is a monstrous act of betrayal and to come to terms with – I think I’d call that an act of selfishness.’ Tragically, he admitted to the newspaper he has thought of suicide 'continuously' since her death. Millionaire Lord Saatchi, who made his fortune with his brother Charles in Saatchi & Saatchi, the advertising agency, was four years her junior and Hart's second husband. They pair began an affair while they worked at the publishers Haymarket and married shortly after in 1984 . Saatchi, right, sees it as his role to continue his late wife's work and foundation . They began an affair while they worked at the publishers Haymarket and married shortly after in 1984, when she was 37. They had a son together, Edward, who is now in his late 20s. Hart’s 1991 debut novel, Damage, sold more than one million copies, was translated into 27  languages and made into a film starring Jeremy Irons. She also produced a number of West End plays. Her other novels include Sin, Oblivion, The Stillest Day and The Reconstructionist. She had a troubled upbringing after losing her brother Charles at the age of six and her younger sister, Sheila shortly after. Within eight months brother Owen was killed in an accident. In the decade before her death she made poetry fashionable with popular readings at the British Library. A collection of her critical introductions to 19 poets and a few of their poems, entitled Life Saving: Why We Need Poetry, was published last Thursday. After her death Saatchi launched The Poetry App, created by the Josephine Hart Poetry Foundation, which features classic poems read by actors. Saatchi is half of the most famous advertising partnership in history. He now runs M&C Saatchi with his brother after being ousted from the original company. He sees it as his role to continue Hart's work and foundation and is devoted to ensuring his wife's legacy lives on."
                ]
              ],
              "shape": {
                "columns": 3,
                "rows": 5
              }
            },
            "text/html": [
              "<div>\n",
              "<style scoped>\n",
              "    .dataframe tbody tr th:only-of-type {\n",
              "        vertical-align: middle;\n",
              "    }\n",
              "\n",
              "    .dataframe tbody tr th {\n",
              "        vertical-align: top;\n",
              "    }\n",
              "\n",
              "    .dataframe thead th {\n",
              "        text-align: right;\n",
              "    }\n",
              "</style>\n",
              "<table border=\"1\" class=\"dataframe\">\n",
              "  <thead>\n",
              "    <tr style=\"text-align: right;\">\n",
              "      <th></th>\n",
              "      <th>article_title</th>\n",
              "      <th>section_title</th>\n",
              "      <th>passage_text</th>\n",
              "    </tr>\n",
              "  </thead>\n",
              "  <tbody>\n",
              "    <tr>\n",
              "      <th>0</th>\n",
              "      <td>CNN/DailyMail Article</td>\n",
              "      <td>History-related</td>\n",
              "      <td>Whether grainy movie reels featuring marching ...</td>\n",
              "    </tr>\n",
              "    <tr>\n",
              "      <th>1</th>\n",
              "      <td>CNN/DailyMail Article</td>\n",
              "      <td>History-related</td>\n",
              "      <td>THE FINAL SEASON by Nigel McCrery (Random Hous...</td>\n",
              "    </tr>\n",
              "    <tr>\n",
              "      <th>2</th>\n",
              "      <td>CNN/DailyMail Article</td>\n",
              "      <td>History-related</td>\n",
              "      <td>Phone companies have revealed the cost of usin...</td>\n",
              "    </tr>\n",
              "    <tr>\n",
              "      <th>3</th>\n",
              "      <td>CNN/DailyMail Article</td>\n",
              "      <td>History-related</td>\n",
              "      <td>A 14-year-old Florida boy had been bullied for...</td>\n",
              "    </tr>\n",
              "    <tr>\n",
              "      <th>4</th>\n",
              "      <td>CNN/DailyMail Article</td>\n",
              "      <td>History-related</td>\n",
              "      <td>Advertising magnate Lord Maurice Saatchi has s...</td>\n",
              "    </tr>\n",
              "  </tbody>\n",
              "</table>\n",
              "</div>"
            ],
            "text/plain": [
              "           article_title    section_title  \\\n",
              "0  CNN/DailyMail Article  History-related   \n",
              "1  CNN/DailyMail Article  History-related   \n",
              "2  CNN/DailyMail Article  History-related   \n",
              "3  CNN/DailyMail Article  History-related   \n",
              "4  CNN/DailyMail Article  History-related   \n",
              "\n",
              "                                        passage_text  \n",
              "0  Whether grainy movie reels featuring marching ...  \n",
              "1  THE FINAL SEASON by Nigel McCrery (Random Hous...  \n",
              "2  Phone companies have revealed the cost of usin...  \n",
              "3  A 14-year-old Florida boy had been bullied for...  \n",
              "4  Advertising magnate Lord Maurice Saatchi has s...  "
            ]
          },
          "execution_count": 6,
          "metadata": {},
          "output_type": "execute_result"
        }
      ],
      "source": [
        "import pandas as pd\n",
        "\n",
        "# create a pandas dataframe with the documents we extracted\n",
        "df = pd.DataFrame(docs)\n",
        "df.head()"
      ]
    },
    {
      "cell_type": "markdown",
      "metadata": {
        "id": "lDYP3RkcPYdf"
      },
      "source": [
        "# Initialize Pinecone Index"
      ]
    },
    {
      "cell_type": "markdown",
      "metadata": {
        "id": "A5m5HHVu4War"
      },
      "source": [
        "The Pinecone index stores vector representations of our historical passages which we can retrieve later using another vector (query vector). To build our vector index, we must first establish a connection with Pinecone. For this, we need an API from Pinecone. You can get one for free from [here](https://app.pinecone.io/), and after that, we initialize the connection as follows:"
      ]
    },
    {
      "cell_type": "code",
      "execution_count": 7,
      "metadata": {
        "colab": {
          "base_uri": "https://localhost:8080/"
        },
        "id": "jdCnTJI_5GvM",
        "outputId": "3afcd253-dcf7-4c09-eba6-e737a386f570"
      },
      "outputs": [
        {
          "name": "stdout",
          "output_type": "stream",
          "text": [
            "Requirement already satisfied: pinecone-client in c:\\users\\nicho\\appdata\\local\\programs\\python\\python313\\lib\\site-packages (3.1.0)\n",
            "Requirement already satisfied: certifi>=2019.11.17 in c:\\users\\nicho\\appdata\\local\\programs\\python\\python313\\lib\\site-packages (from pinecone-client) (2025.4.26)\n",
            "Requirement already satisfied: tqdm>=4.64.1 in c:\\users\\nicho\\appdata\\local\\programs\\python\\python313\\lib\\site-packages (from pinecone-client) (4.67.1)\n",
            "Requirement already satisfied: typing-extensions>=3.7.4 in c:\\users\\nicho\\appdata\\local\\programs\\python\\python313\\lib\\site-packages (from pinecone-client) (4.13.2)\n",
            "Requirement already satisfied: urllib3>=1.26.5 in c:\\users\\nicho\\appdata\\local\\programs\\python\\python313\\lib\\site-packages (from pinecone-client) (2.4.0)\n",
            "Requirement already satisfied: colorama in c:\\users\\nicho\\appdata\\roaming\\python\\python313\\site-packages (from tqdm>=4.64.1->pinecone-client) (0.4.6)\n",
            "Note: you may need to restart the kernel to use updated packages.\n"
          ]
        }
      ],
      "source": [
        "pip install pinecone-client"
      ]
    },
    {
      "cell_type": "code",
      "execution_count": 8,
      "metadata": {},
      "outputs": [
        {
          "name": "stdout",
          "output_type": "stream",
          "text": [
            "Requirement already satisfied: python-dotenv in c:\\users\\nicho\\appdata\\local\\programs\\python\\python313\\lib\\site-packages (1.1.0)\n",
            "Note: you may need to restart the kernel to use updated packages.\n"
          ]
        }
      ],
      "source": [
        "pip install python-dotenv"
      ]
    },
    {
      "cell_type": "code",
      "execution_count": 9,
      "metadata": {},
      "outputs": [],
      "source": [
        "import os\n",
        "from dotenv import load_dotenv\n",
        "\n",
        "# Load keys from .env file\n",
        "load_dotenv()\n",
        "\n",
        "# Access the API key\n",
        "PINECONE_API_KEY = os.getenv(\"PINECONE_API_KEY\")\n",
        "\n",
        "# Debug if needed\n",
        "if not PINECONE_API_KEY:\n",
        "    raise ValueError(\"❌ PINECONE_API_KEY not found. Check your .env file.\")\n"
      ]
    },
    {
      "cell_type": "code",
      "execution_count": 10,
      "metadata": {},
      "outputs": [],
      "source": [
        "from pinecone import Pinecone\n",
        "\n",
        "pc = Pinecone(api_key=PINECONE_API_KEY)\n"
      ]
    },
    {
      "cell_type": "code",
      "execution_count": 11,
      "metadata": {
        "id": "1xrZ_rnsY2tC"
      },
      "outputs": [],
      "source": [
        "#import os\n",
        "from pinecone import Pinecone\n",
        "\n",
        "# initialize connection to pinecone (get API key at app.pinecone.io)\n",
        "api_key = 'PINECONE_API_KEY'\n",
        "\n",
        "# configure client\n",
        "pc = Pinecone(api_key=PINECONE_API_KEY)"
      ]
    },
    {
      "cell_type": "markdown",
      "metadata": {
        "id": "sYl2VLA-Y2tC"
      },
      "source": [
        "Now we setup our index specification, this allows us to define the cloud provider and region where we want to deploy our index. You can find a list of all [available providers and regions here](https://docs.pinecone.io/docs/projects)."
      ]
    },
    {
      "cell_type": "code",
      "execution_count": 12,
      "metadata": {
        "id": "Z5sQ1thgY2tC"
      },
      "outputs": [],
      "source": [
        "from pinecone import ServerlessSpec\n",
        "import os\n",
        "cloud = 'aws'\n",
        "region = 'us-east-1'\n",
        "\n",
        "spec = ServerlessSpec(cloud=cloud, region=region)"
      ]
    },
    {
      "cell_type": "markdown",
      "metadata": {
        "id": "7CPJmTIy4XsL"
      },
      "source": [
        "Now we create a new index. We will name it \"abstractive-question-answering\" — you can name it anything we want. We specify the metric type as \"cosine\" and dimension as 768 because the retriever we use to generate context embeddings is optimized for cosine similarity and outputs 768-dimension vectors."
      ]
    },
    {
      "cell_type": "code",
      "execution_count": 13,
      "metadata": {
        "id": "Izvc789CY2tD"
      },
      "outputs": [],
      "source": [
        "index_name = 'abstract' #give your index a meaningful name"
      ]
    },
    {
      "cell_type": "code",
      "execution_count": 14,
      "metadata": {
        "colab": {
          "base_uri": "https://localhost:8080/"
        },
        "id": "e5JCD_XnY2tD",
        "outputId": "02d260c8-3bac-468c-a446-15d82816ea60"
      },
      "outputs": [
        {
          "name": "stdout",
          "output_type": "stream",
          "text": [
            "ℹ️ Index 'abstract' already exists.\n"
          ]
        }
      ],
      "source": [
        "from pinecone import ServerlessSpec\n",
        "import time\n",
        "\n",
        "# Define cloud + region — these must match your Pinecone project settings\n",
        "cloud = 'aws'\n",
        "region = 'us-east-1'\n",
        "\n",
        "# Define spec\n",
        "spec = ServerlessSpec(cloud=cloud, region=region)\n",
        "\n",
        "# Use a valid index name\n",
        "index_name = \"abstract\"\n",
        "\n",
        "# Create index if it doesn't already exist\n",
        "if index_name not in pc.list_indexes().names():\n",
        "    pc.create_index(\n",
        "        name=index_name,\n",
        "        dimension=768,\n",
        "        metric=\"cosine\",\n",
        "        spec=spec\n",
        "    )\n",
        "    print(f\"✅ Index '{index_name}' created.\")\n",
        "else:\n",
        "    print(f\"ℹ️ Index '{index_name}' already exists.\")\n",
        "\n",
        "# Get index object for use\n",
        "index = pc.Index(index_name)\n"
      ]
    },
    {
      "cell_type": "markdown",
      "metadata": {
        "id": "WHcCQVi4PcmE"
      },
      "source": [
        "# Initialize Retriever"
      ]
    },
    {
      "cell_type": "markdown",
      "metadata": {
        "id": "udmF-qY24yQ1"
      },
      "source": [
        "Next, we need to initialize our retriever. The retriever will mainly do two things:\n",
        "\n",
        "- Generate embeddings for all historical passages (context vectors/embeddings)\n",
        "- Generate embeddings for our questions (query vector/embedding)\n",
        "\n",
        "The retriever will create embeddings such that the questions and passages that hold the answers to our queries are close to one another in the vector space. We will use a SentenceTransformer model based on Microsoft's MPNet as our retriever. This model performs quite well for comparing the similarity between queries and documents. We can use Cosine Similarity to compute the similarity between query and context vectors generated by this model (Pinecone automatically does this for us)."
      ]
    },
    {
      "cell_type": "code",
      "execution_count": 15,
      "metadata": {
        "colab": {
          "base_uri": "https://localhost:8080/"
        },
        "id": "45dRrEZNPdXu",
        "outputId": "c528a40e-8994-48d7-f827-05b470b3c1bc"
      },
      "outputs": [
        {
          "name": "stdout",
          "output_type": "stream",
          "text": [
            "Retriever loaded on: cpu\n"
          ]
        }
      ],
      "source": [
        "import torch\n",
        "from sentence_transformers import SentenceTransformer\n",
        "\n",
        "device = 'cuda' if torch.cuda.is_available() else 'cpu'\n",
        "\n",
        "model_name = 'flax-sentence-embeddings/all_datasets_v3_mpnet-base'\n",
        "\n",
        "retriever = SentenceTransformer(model_name)\n",
        "retriever = retriever.to(device)\n",
        "\n",
        "print(f\"Retriever loaded on: {device}\")\n"
      ]
    },
    {
      "cell_type": "markdown",
      "metadata": {
        "id": "Jo5MN_GKPeDy"
      },
      "source": [
        "# Generate Embeddings and Upsert"
      ]
    },
    {
      "cell_type": "markdown",
      "metadata": {
        "id": "Hj0NdB-kU9Yt"
      },
      "source": [
        "Next, we need to generate embeddings for the context passages. We will do this in batches to help us more quickly generate embeddings and upload them to the Pinecone index. When passing the documents to Pinecone, we need an id (a unique value), context embedding, and metadata for each document representing context passages in the dataset. The metadata is a dictionary containing data relevant to our embeddings, such as the article title, section title, passage text, etc."
      ]
    },
    {
      "cell_type": "code",
      "execution_count": null,
      "metadata": {
        "colab": {
          "base_uri": "https://localhost:8080/",
          "height": 118,
          "referenced_widgets": [
            "f74f17bead5f494bbd94f9c3f3f44150",
            "2ccafd9b60be488fb0427ff8a5aae5aa",
            "f0234f07e3b542d1aaebc22085cabd28",
            "00b74f4f70a6412faddadb3eb800fe00",
            "f74e9142eaa3483e8f7f6d0c07dc29cb",
            "1fe658e1186740cd8c4441fe04aaf2b9",
            "f6d49a921dca40c19521f9466a84675c",
            "3d68b89be9c54824a0b04754c101e5d9",
            "0c5636610ccc489b95fc64f3af49d1bf",
            "72aa8c9afcfb43828543dc359293f4c9",
            "e03ed0ffab44459ea2b4108752da24c5"
          ]
        },
        "id": "4OqB7bBePia-",
        "outputId": "69ef1d44-1a7d-4f6e-cbb9-97d3fbe8c92d"
      },
      "outputs": [
        {
          "name": "stderr",
          "output_type": "stream",
          "text": [
            "100%|██████████| 461/461 [1:14:14<00:00,  9.66s/it]\n"
          ]
        },
        {
          "data": {
            "text/plain": [
              "{'dimension': 768,\n",
              " 'index_fullness': 0.0,\n",
              " 'namespaces': {'': {'vector_count': 29440}},\n",
              " 'total_vector_count': 29440}"
            ]
          },
          "execution_count": 16,
          "metadata": {},
          "output_type": "execute_result"
        }
      ],
      "source": [
        "from tqdm.auto import tqdm\n",
        "\n",
        "batch_size = 64\n",
        "\n",
        "for i in tqdm(range(0, len(df), batch_size)):\n",
        "\n",
        "    i_end = min(i + batch_size, len(df))\n",
        "\n",
        "    batch = df.iloc[i:i_end]\n",
        "\n",
        "    emb = retriever.encode(batch[\"passage_text\"].tolist()).tolist()\n",
        "\n",
        "    meta = batch[[\"article_title\", \"section_title\", \"passage_text\"]].to_dict(orient=\"records\")\n",
        "    ids = [f\"id-{i+j}\" for j in range(len(batch))] \n",
        "\n",
        "    to_upsert = list(zip(ids, emb, meta))\n",
        "\n",
        "    index.upsert(vectors=to_upsert)\n",
        "\n",
        "index.describe_index_stats() \n"
      ]
    },
    {
      "cell_type": "markdown",
      "metadata": {
        "id": "WFKPJ0WtPmAw"
      },
      "source": [
        "# Initialize Generator"
      ]
    },
    {
      "cell_type": "markdown",
      "metadata": {
        "id": "5RraVCG_hcv3"
      },
      "source": [
        "We will use ELI5 BART for the generator which is a Sequence-To-Sequence model trained using the ‘Explain Like I’m 5’ (ELI5) dataset. Sequence-To-Sequence models can take a text sequence as input and produce a different text sequence as output.\n",
        "\n",
        "The input to the ELI5 BART model is a single string which is a concatenation of the query and the relevant documents providing the context for the answer. The documents are separated by a special token &lt;P>, so the input string will look as follows:\n",
        "\n",
        ">question: What is a sonic boom? context: &lt;P> A sonic boom is a sound associated with shock waves created when an object travels through the air faster than the speed of sound. &lt;P> Sonic booms generate enormous amounts of sound energy, sounding similar to an explosion or a thunderclap to the human ear. &lt;P> Sonic booms due to large supersonic aircraft can be particularly loud and startling, tend to awaken people, and may cause minor damage to some structures. This led to prohibition of routine supersonic flight overland.\n",
        "\n",
        "More detail on how the ELI5 dataset was built is available [here](https://arxiv.org/abs/1907.09190) and how ELI5 BART model was trained is available [here](https://yjernite.github.io/lfqa.html).\n",
        "\n",
        "Let's initialize the BART model using transformers."
      ]
    },
    {
      "cell_type": "code",
      "execution_count": 17,
      "metadata": {
        "id": "76QyADZ0Pqki"
      },
      "outputs": [],
      "source": [
        "from transformers import BartTokenizer, BartForConditionalGeneration\n",
        "\n",
        "# load bart tokenizer and model from huggingface\n",
        "tokenizer = BartTokenizer.from_pretrained('vblagoje/bart_lfqa')\n",
        "generator = BartForConditionalGeneration.from_pretrained('vblagoje/bart_lfqa').to(device)"
      ]
    },
    {
      "cell_type": "markdown",
      "metadata": {
        "id": "RBr1GqvwkI3W"
      },
      "source": [
        "All the components of our abstract QA system are complete and ready to be queried. But first, let's write some helper functions to retrieve context passages from Pinecone index and to format the query in the way the generator expects the input."
      ]
    },
    {
      "cell_type": "code",
      "execution_count": 18,
      "metadata": {
        "id": "mJfIe7CtlsWo"
      },
      "outputs": [],
      "source": [
        "def query_pinecone(query, top_k):\n",
        "    # generate embeddings for the query\n",
        "    xq = retriever.encode(query).tolist()\n",
        "    # search pinecone index for context passage with the answer\n",
        "    xc = index.query(vector=xq, top_k=top_k, include_metadata=True)\n",
        "    return xc"
      ]
    },
    {
      "cell_type": "code",
      "execution_count": 19,
      "metadata": {
        "id": "wiOZ2yWDHI8p"
      },
      "outputs": [],
      "source": [
        "def format_query(query, context):\n",
        "    # extract passage_text from Pinecone search result and add the <P> tag\n",
        "    context = [f\"<P> {m['metadata']['passage_text']}\" for m in context]\n",
        "    # concatinate all context passages\n",
        "    context = \" \".join(context)\n",
        "    # contcatinate the query and context passages\n",
        "    query = f\"question: {query} context: {context}\"\n",
        "    return query"
      ]
    },
    {
      "cell_type": "markdown",
      "metadata": {
        "id": "yA0f1Xyxq-Fp"
      },
      "source": [
        "Let's test the helper functions. We will query the Pinecone index function we created earlier with the `query_pinecone` to get context passages and pass them to the `format_query` function."
      ]
    },
    {
      "cell_type": "code",
      "execution_count": 20,
      "metadata": {
        "colab": {
          "base_uri": "https://localhost:8080/"
        },
        "id": "NSm2nj11mR87",
        "outputId": "3464a3ba-9dce-430e-d5c3-b1aacc88cb64"
      },
      "outputs": [
        {
          "data": {
            "text/plain": [
              "{'matches': [{'id': 'id-3278',\n",
              "              'metadata': {'article_title': 'CNN/DailyMail Article',\n",
              "                           'passage_text': 'The City of Los Angeles has grown '\n",
              "                                           'more than any major metropolitan '\n",
              "                                           'city in America since the '\n",
              "                                           'beginning of the twentieth '\n",
              "                                           'century. In 1900, the city Angels '\n",
              "                                           'had little over 100,000 people but '\n",
              "                                           \"it wasn't until people moved west, \"\n",
              "                                           'especially after World War II, the '\n",
              "                                           'population in the Los Angeles area '\n",
              "                                           'really exploded. In the late 1880s '\n",
              "                                           'several small independent electric '\n",
              "                                           'companies worked to bring power to '\n",
              "                                           'Southern California. In 1897, West '\n",
              "                                           'Side Lighting Co. and Los Angeles '\n",
              "                                           'Electric Co. merged to form Edison '\n",
              "                                           'Electric Co. of Los Angeles, . As '\n",
              "                                           'electricity expanded it also '\n",
              "                                           'played a vital role in creating '\n",
              "                                           'and expanding the infrastructure. '\n",
              "                                           'Edison Company photographers also '\n",
              "                                           'documented the process, leaving a '\n",
              "                                           'vast archive of photos that reveal '\n",
              "                                           'the interiors of businesses, '\n",
              "                                           'restaurants, nightclubs,hotels and '\n",
              "                                           'other architectural gems of early '\n",
              "                                           'Los Angeles. Organised by William '\n",
              "                                           '. Deverell, history professor at '\n",
              "                                           'University of Southern California '\n",
              "                                           'and Greg Hise, professor of '\n",
              "                                           'history at the University of '\n",
              "                                           'Nevada, the pictures show . life '\n",
              "                                           'in LA in the 1940s and how the '\n",
              "                                           'introduction of electricity '\n",
              "                                           'impacted daily life around the '\n",
              "                                           \"home and the outside world. It's . \"\n",
              "                                           'part of an online exhibition '\n",
              "                                           \"entitled ' Form and Landscape: \"\n",
              "                                           'Southern California Edison and the '\n",
              "                                           \"Los Angeles Basin, 1940–1990' and \"\n",
              "                                           'features 70,000 digitized photos '\n",
              "                                           'from the . Southern California '\n",
              "                                           'Edison archive of The Huntington '\n",
              "                                           'Library, Art . Collections, and '\n",
              "                                           \"Botanical Gardens. 'I’ve been \"\n",
              "                                           'fascinated with the Edison archive '\n",
              "                                           \"since it arrived here,' said \"\n",
              "                                           'Deverell of the tremendous trove '\n",
              "                                           \"of images. 'It’s . such a gold \"\n",
              "                                           'mine of history—from the late 19th '\n",
              "                                           'century to the late 20th . century '\n",
              "                                           'Edison had photographers out in '\n",
              "                                           'the field documenting . everything '\n",
              "                                           'from the installation of telephone '\n",
              "                                           'poles to various other . '\n",
              "                                           'electrical applications. Now we '\n",
              "                                           'get to have some fun, dig more '\n",
              "                                           'deeply, . and look for what else '\n",
              "                                           'is in these pictures—behind the '\n",
              "                                           'telephone poles . and switching '\n",
              "                                           'stations. And there’s a lot '\n",
              "                                           \"there.' Shopping Bag Market, (Doug \"\n",
              "                                           'White): The neon lighting on this '\n",
              "                                           \"supermarket was ' as effective \"\n",
              "                                           'during daylight hours as it was at '\n",
              "                                           \"night' Hemet: Main Street, circa \"\n",
              "                                           '1940: A quiet streetscape in LA - '\n",
              "                                           'how common might such a scene be '\n",
              "                                           \"these days? The Famous Merle's \"\n",
              "                                           'Drive-in (Visalia), ca. 1950: The '\n",
              "                                           'pictures provide a comprehensive '\n",
              "                                           'glimpse into a post-war society '\n",
              "                                           'remaking cultural and social '\n",
              "                                           'history . Expanding electrics: '\n",
              "                                           'This is part of nearly one hundred '\n",
              "                                           'mile power line (then the world¿s '\n",
              "                                           'longest) Midnight swim: As Los '\n",
              "                                           'Angeles became electrified, '\n",
              "                                           'lifestyles began to change . Men '\n",
              "                                           'at work:  The Southern California '\n",
              "                                           'Edison archive holds a '\n",
              "                                           'jaw-dropping array of 70,000 '\n",
              "                                           'images; these date from the late '\n",
              "                                           'nineteenth century through the '\n",
              "                                           'early 1970s . Artist unknown, '\n",
              "                                           'Safety First, 1915: A quiet LA '\n",
              "                                           'road - above powerlines can be '\n",
              "                                           'seen as electrification takes hold '\n",
              "                                           'across Southern California . Gas '\n",
              "                                           'power and electrics: Though not '\n",
              "                                           'the first electrical utility '\n",
              "                                           'company on the regional scene, '\n",
              "                                           'Edison had grown to be the biggest '\n",
              "                                           'and most important by the early '\n",
              "                                           \"twentieth century . I'll wash up: \"\n",
              "                                           'This must be one of the early '\n",
              "                                           'dishwashers in perhaps the '\n",
              "                                           'clearest example of how '\n",
              "                                           \"electricity was altering people's \"\n",
              "                                           'lifestyles and making things '\n",
              "                                           'altogether more convenient . Home '\n",
              "                                           'comforts: The pictures tell a '\n",
              "                                           'story of better living, '\n",
              "                                           'improvement, and uplift all made '\n",
              "                                           'possible through the power of '\n",
              "                                           \"electricity or 'white gold,' the \"\n",
              "                                           'company¿s term of art for its '\n",
              "                                           'product . Evening meal at Pokeys: '\n",
              "                                           'The collection of 70,000 '\n",
              "                                           'photographs offers a twentieth '\n",
              "                                           'century vision of better living '\n",
              "                                           'through electrification . Then and '\n",
              "                                           'now: Electricity, specifically '\n",
              "                                           'electric lighting, extended the '\n",
              "                                           'given hours in a day when '\n",
              "                                           'commercial or leisure activities '\n",
              "                                           'could occur .',\n",
              "                           'section_title': 'History-related'},\n",
              "              'score': 0.517757,\n",
              "              'values': []}],\n",
              " 'namespace': '',\n",
              " 'usage': {'read_units': 1}}"
            ]
          },
          "execution_count": 20,
          "metadata": {},
          "output_type": "execute_result"
        }
      ],
      "source": [
        "query = \"when was the first electric power system built?\"\n",
        "result = query_pinecone(query, top_k=1)\n",
        "result"
      ]
    },
    {
      "cell_type": "code",
      "execution_count": 21,
      "metadata": {
        "id": "6yoylQFO4joX"
      },
      "outputs": [],
      "source": [
        "from pprint import pprint"
      ]
    },
    {
      "cell_type": "code",
      "execution_count": 22,
      "metadata": {
        "colab": {
          "base_uri": "https://localhost:8080/"
        },
        "id": "tPxVoo6am8ls",
        "outputId": "e78d5939-09c9-45d1-e45b-5ba99e521e24"
      },
      "outputs": [
        {
          "name": "stdout",
          "output_type": "stream",
          "text": [
            "('question: when was the first electric power system built? context: <P> The '\n",
            " 'City of Los Angeles has grown more than any major metropolitan city in '\n",
            " 'America since the beginning of the twentieth century. In 1900, the city '\n",
            " \"Angels had little over 100,000 people but it wasn't until people moved west, \"\n",
            " 'especially after World War II, the population in the Los Angeles area really '\n",
            " 'exploded. In the late 1880s several small independent electric companies '\n",
            " 'worked to bring power to Southern California. In 1897, West Side Lighting '\n",
            " 'Co. and Los Angeles Electric Co. merged to form Edison Electric Co. of Los '\n",
            " 'Angeles, . As electricity expanded it also played a vital role in creating '\n",
            " 'and expanding the infrastructure. Edison Company photographers also '\n",
            " 'documented the process, leaving a vast archive of photos that reveal the '\n",
            " 'interiors of businesses, restaurants, nightclubs,hotels and other '\n",
            " 'architectural gems of early Los Angeles. Organised by William . Deverell, '\n",
            " 'history professor at University of Southern California and Greg Hise, '\n",
            " 'professor of history at the University of Nevada, the pictures show . life '\n",
            " 'in LA in the 1940s and how the introduction of electricity impacted daily '\n",
            " \"life around the home and the outside world. It's . part of an online \"\n",
            " \"exhibition entitled ' Form and Landscape: Southern California Edison and the \"\n",
            " \"Los Angeles Basin, 1940–1990' and features 70,000 digitized photos from the \"\n",
            " '. Southern California Edison archive of The Huntington Library, Art . '\n",
            " \"Collections, and Botanical Gardens. 'I’ve been fascinated with the Edison \"\n",
            " \"archive since it arrived here,' said Deverell of the tremendous trove of \"\n",
            " \"images. 'It’s . such a gold mine of history—from the late 19th century to \"\n",
            " 'the late 20th . century Edison had photographers out in the field '\n",
            " 'documenting . everything from the installation of telephone poles to various '\n",
            " 'other . electrical applications. Now we get to have some fun, dig more '\n",
            " 'deeply, . and look for what else is in these pictures—behind the telephone '\n",
            " \"poles . and switching stations. And there’s a lot there.' Shopping Bag \"\n",
            " \"Market, (Doug White): The neon lighting on this supermarket was ' as \"\n",
            " \"effective during daylight hours as it was at night' Hemet: Main Street, \"\n",
            " 'circa 1940: A quiet streetscape in LA - how common might such a scene be '\n",
            " \"these days? The Famous Merle's Drive-in (Visalia), ca. 1950: The pictures \"\n",
            " 'provide a comprehensive glimpse into a post-war society remaking cultural '\n",
            " 'and social history . Expanding electrics: This is part of nearly one hundred '\n",
            " 'mile power line (then the world¿s longest) Midnight swim: As Los Angeles '\n",
            " 'became electrified, lifestyles began to change . Men at work:  The Southern '\n",
            " 'California Edison archive holds a jaw-dropping array of 70,000 images; these '\n",
            " 'date from the late nineteenth century through the early 1970s . Artist '\n",
            " 'unknown, Safety First, 1915: A quiet LA road - above powerlines can be seen '\n",
            " 'as electrification takes hold across Southern California . Gas power and '\n",
            " 'electrics: Though not the first electrical utility company on the regional '\n",
            " 'scene, Edison had grown to be the biggest and most important by the early '\n",
            " \"twentieth century . I'll wash up: This must be one of the early dishwashers \"\n",
            " \"in perhaps the clearest example of how electricity was altering people's \"\n",
            " 'lifestyles and making things altogether more convenient . Home comforts: The '\n",
            " 'pictures tell a story of better living, improvement, and uplift all made '\n",
            " \"possible through the power of electricity or 'white gold,' the company¿s \"\n",
            " 'term of art for its product . Evening meal at Pokeys: The collection of '\n",
            " '70,000 photographs offers a twentieth century vision of better living '\n",
            " 'through electrification . Then and now: Electricity, specifically electric '\n",
            " 'lighting, extended the given hours in a day when commercial or leisure '\n",
            " 'activities could occur .')\n"
          ]
        }
      ],
      "source": [
        "# format the query in the form generator expects the input\n",
        "query = format_query(query, result[\"matches\"])\n",
        "pprint(query)"
      ]
    },
    {
      "cell_type": "markdown",
      "metadata": {
        "id": "OY8LSqk7rdPS"
      },
      "source": [
        "The output looks great. Now let's write a function to generate answers."
      ]
    },
    {
      "cell_type": "code",
      "execution_count": 23,
      "metadata": {
        "id": "2fxIoNqeoEPD"
      },
      "outputs": [],
      "source": [
        "def generate_answer(query):\n",
        "    # tokenize the query to get input_ids\n",
        "    inputs = tokenizer([query], max_length=1024, return_tensors=\"pt\").to(device)\n",
        "    # use generator to predict output ids\n",
        "    ids = generator.generate(inputs[\"input_ids\"], num_beams=2, min_length=20, max_length=40)\n",
        "    # use tokenizer to decode the output ids\n",
        "    answer = tokenizer.batch_decode(ids, skip_special_tokens=True, clean_up_tokenization_spaces=False)[0]\n",
        "    return pprint(answer)"
      ]
    },
    {
      "cell_type": "code",
      "execution_count": 24,
      "metadata": {
        "colab": {
          "base_uri": "https://localhost:8080/"
        },
        "id": "cYXFSBqSsZMx",
        "outputId": "a91ad8a1-9a3e-4f27-8df0-df9a0b6fe24f"
      },
      "outputs": [
        {
          "name": "stderr",
          "output_type": "stream",
          "text": [
            "Truncation was not explicitly activated but `max_length` is provided a specific value, please use `truncation=True` to explicitly truncate examples to max length. Defaulting to 'longest_first' truncation strategy. If you encode pairs of sequences (GLUE-style) with the tokenizer you can select this strategy more precisely by providing a specific strategy to `truncation`.\n"
          ]
        },
        {
          "name": "stdout",
          "output_type": "stream",
          "text": [
            "('The first electric power system in the US was built in the late 19th '\n",
            " 'century. The first electric power lines were built in California in the late '\n",
            " '1880s. The first electric power lines were')\n"
          ]
        }
      ],
      "source": [
        "generate_answer(query)"
      ]
    },
    {
      "cell_type": "markdown",
      "metadata": {
        "id": "gYWACzIotWQY"
      },
      "source": [
        "As we can see, the generator used the provided context to answer our question. Let's run some more queries."
      ]
    },
    {
      "cell_type": "code",
      "execution_count": 25,
      "metadata": {
        "colab": {
          "base_uri": "https://localhost:8080/"
        },
        "id": "6iFLxPPvx2Tm",
        "outputId": "c5eac275-1287-4ec3-c87e-ffe5ea7112df"
      },
      "outputs": [
        {
          "name": "stdout",
          "output_type": "stream",
          "text": [
            "('The first wireless message was sent by a telegraph. The first telegraph was '\n",
            " 'sent in 1844, and the first wireless message was sent in 1845. The first '\n",
            " 'wireless message was sent')\n"
          ]
        }
      ],
      "source": [
        "query = \"How was the first wireless message sent?\"\n",
        "context = query_pinecone(query, top_k=5)\n",
        "query = format_query(query, context[\"matches\"])\n",
        "generate_answer(query)"
      ]
    },
    {
      "cell_type": "markdown",
      "metadata": {
        "id": "BI2fTt_A5Ozf"
      },
      "source": [
        "To confirm that this answer is correct, we can check the contexts used to generate the answer."
      ]
    },
    {
      "cell_type": "code",
      "execution_count": 26,
      "metadata": {
        "id": "15WZSeZw3mNY"
      },
      "outputs": [
        {
          "name": "stdout",
          "output_type": "stream",
          "text": [
            "(CNN Student News) -- May 24, 2010 . Download PDF maps related to today's show: . • Panama City, Florida • Shanghai & Beijing, China • West Point, New York . Transcript . THIS IS A RUSH TRANSCRIPT. THIS COPY MAY NOT BE IN ITS FINAL FORM AND MAY BE UPDATED. CARL AZUZ, CNN STUDENT NEWS ANCHOR: May 24th, 1844: The first telegraph message was sent. May 24th, 2010: You can watch CNN Student News on TV, online and on iTunes. A lot changes over 150 years. I'm Carl Azuz. Let's do this. First Up: Gulf Coast Oil Spill . AZUZ: Construction delays, permit problems, the threat of hurricanes: Officials in Panama City, Florida have dealt with a lot of problems to open up a new airport. Here's a new one: a massive oil spill in the Gulf of Mexico. We've talked about some of the different industries that this thing is affecting. Tourism is a big one, especially in Panama City. This new airport is expected to bring in millions of dollars. The problem is, people are worried about how clean the water is, and those concerns might keep them away from the region. The spill is more than 100 miles away from Panama City's coastline, but officials are keeping a close eye on it. RANDY CURTIS, PANAMA CITY BAY COUNTY AIRPORT: Well, certainly it's something we've watched very closely. And fortunately, we've not had any impacts in this part of Florida and the Gulf with the oil itself. So, we are open for business. DAN ROWE, PANAMA CITY BEACH VISITORS BUREAU: This airport is a great opportunity for us to showcase the region. And you know, we will get through the oil spill. There's no oil on Panama City beach or any of the beaches in northwest Florida now, but we do need to continue to get the word out that this is a great place to come to visit and the airport is a means to get there. AZUZ: Last week, we told you about something called a \"top kill.\" This animation shows how it would work. Engineers would pump this special mud into the leaking well. They hope that would stop the flow of oil. Then, they can seal the whole thing with cement. Officials had hoped to try that yesterday. Didn't happen. They're now looking at giving it a shot tomorrow or Wednesday. Recently, some CNN iReporters sent in their ideas about how to deal with this spill. CNN asked Bill Nye the Science Guy to take a look at their suggestions. He's is, as we said, the science expert. He actually used to deal with oil spills. Check out his reaction to the iReports. (BEGIN VIDEO) UNIDENTIFIED MALE, CNN IREPORTER: You slide this in place on the hole's stopper, going up the pressure which will plug that gap. You then drill several fastening bolts to fasten it in place. And at this stage, basically, all you need do is either tap into the pipe through the dam and pump in the golf balls, the rubber, the crap that will flow down and block. NYE: As soon as somebody says drill through here, you're really in trouble. The stuff is unbelievably hard and it's broken. It's brittle. I mean, when you start to drill through it, it will just crack and you'll have this crack propagate up and down the pipe. And the leak will actually get even more difficult to deal with. UNIDENTIFIED MALE, CNN IREPORTER: As you can see, this is simulating an oil spill in the water. And you just sprinkle some sand on it. As you can see, immediately the sand is absorbing the oil and bringing the oil down to the bottom, which makes the top very clear. NYE: Yes, yes, this is great. UNIDENTIFIED MALE, CNN IREPORTER: It doesn't take the sand for it to absorb. NYE: So, here's the problem. A lot of people don't want tar on the bottom of the ocean either. And the amount of sand involved, when you have an oil spill that's 10 nautical miles by 20 nautical miles, ends up to be a very large amount of sand. UNIDENTIFIED MALE, CNN IREPORTER: You got two scenarios here. We think, first of all, you can actually disperse this on the spill that's out there now. You soak up the oil that's out there now. You've got skimmers coming along and skim up the hay or use the shrimp boats with their nets, something along that line. Or if it washes up on shore, it's going to be just like seaweed, and you can take traditional beach cleaning equipment and just pick it up. NYE: Hay. They're suggesting hay. Hay might work pretty well too. And oil just sticks to that material. Just sticks to it. If you can get that stuff out there and that's what, when I worked on oil slick skimming boats, that's what we used. (END VIDEO) Shoutout . TOMEKA JONES, CNN STUDENT NEWS: Today's Shoutout goes out to Mrs. Estrada's language arts classes at Summerour Middle School in Norcross, Georgia! What U.S. government position have John Negroponte, J.M. McConnell and Dennis Blair all held?  Is it: A) Ambassador to the U.N., B) Director of national intelligence, C) Secretary of state or D) Attorney general? You've got three seconds -- GO! Those are the first three directors of national intelligence. That's your answer and that's your Shoutout! Intelligence Director Resigns . AZUZ: Well now, President Obama is looking for the fourth director of national intelligence. Dennis Blair, who's held the job since January of 2009, resigned late last week. The director of national intelligence -- the job itself -- has been around for about 5 years. It's the person responsible for collecting information from a bunch of government agencies -- including the CIA, the FBI and the Homeland Security Department -- and using all that information to create a single National Intelligence Program. Mr. Blair announced his resignation last Thursday. His office had been criticized recently for not coordinating intelligence efforts well enough and not stopping an attempted terrorist attack in advance. Blair's resignation will be effective at the end of this week. Clinton in China . AZUZ: Some other big names in the Obama administration are over in China. Secretary of State Hillary Clinton is leading a group of more than 200 officials to Beijing for talks with the Chinese government. They're going to be going over a lot of topics, the biggest one is trade. It's something that Secretary Clinton talked about yesterday when she met with Chinese business leaders in Shanghai. That city is hosting the World Expo. It's kind of like the Olympics for economics, science and technology. Secretary Clinton is urging China to allow American companies more freedom to compete with Chinese companies in China. She says that when there's a level playing field, both countries win. Spoken Word . U.S. PRESIDENT BARACK OBAMA: The threat will not go away soon. But let's be clear: al Qaeda and its affiliates are small men on the wrong side of history. They lead no nation. They lead no religion. We need not give in to fear every time a terrorist tries to scare us. We should not discard our freedoms because extremists try to exploit them. We cannot succumb to division because others try to drive us apart. We are the United States of America. West Point Graduation . AZUZ: The president, speaking there during the graduation ceremonies at the United States Military Academy in West Point. During his speech to the cadets, the president talked about some of the challenges that they and the country face in the fight against terrorism. This is the 9th West Point graduation since the 9/11 terrorist attacks. President Obama says that while the war on terror has changed in that time, it's still just as important, and he pointed out that the country is united in its support of its troops. The president also talked about diversity at West Point. This year's graduating class marked a milestone at the academy. It's the first time that the number one overall cadet and the valedictorian are both female. Teen Climbs Everest . AZUZ: Another milestone to tell you about now. Jordan Romero, the guy you see over my shoulder, is on top of the world! He made it the top of Mount Everest on Saturday -- you don't get any higher than that -- and he's just 13 years old! That is the kicker. Jordan has already climbed six of the so-called \"Seven Summits,\" the tallest mountains on every continent. During his climb up Everest, he stopped to talk about the experience. JORDAN ROMERO, 13-YEAR-OLD CLIMBED MT. EVEREST: It's Mount Everest. It's a tough mountain and the altitude is tough; it's so physically and technically hard. And there's a lot of new things I've been wanting from this whole trip. I've been able to see Mount Everest from wherever I go. I'm already happy with that. I've been learning a lot about culture, politics, religion, people, everything about Nepal and China. So, it's been such a great trip and I've learned so much from it. Before We Go . AZUZ: Including how to wear incredibly heavy coats. Now before we go, a lot of world championships are decided out on the field. This one is played out in a barn. Still, the competition is fierce at the World Pinball Championships. Every contestant has a different approach. Some are smooth and steady. Some like this guy turned the whole thing into a dance recital. The guy's been playing this for 35 years, so who are we to question the pinball wizard. When it comes to the player with the best technique... Goodbye . AZUZ: ...we couldn't really pin it down. Time for us to stop flapper-ing our gums and tilt on out of here. If you don't get those pinball references, your teachers might. For CNN Student News, I'm Carl Azuz. We'll see ya tomorrow.\n",
            "---\n",
            "By . Steve Robson . It's left the Government's top code breakers stumped - but maybe can you decipher the secret message sent by British soldiers during World War Two? The unopened scroll was found attached to the remains of a carrier pigeon at house in Surrey in August. It is believed the bird swooped down on the chimney for a rest during its long journey from Nazi-occupied France.Scroll down for video . Shock: David Martin with the remains of a carrier pigeon which he discovered behind his fireplace . But sadly, the brave 'spy' pigeon then fell off its perch and died with the vital message . still wrapped to its leg. Expert hictorians at GCHQ, who have been trying to decipher the code for weeks unsuccessfully, say it may never be cracked. They are now turning the mystery over to the public in the hope that someone may know the secret to unlock the mystery. The message, hidden in a red cylinder, lay undiscovered in the . chimney for around 70 years until the home’s current owner David Martin decided to restore the fireplace. ‘The chimney was full of twigs and . rubbish,’ he said. ‘We were stunned by how much came out. Then . I started finding bits of a dead pigeon. We thought it might be a . racing pigeon until we spotted the red capsule.’ The former probation officer and his . wife Anne, both 74, unscrewed the capsule and found a hand-written . message inside on a ‘cigarette paper thin’ piece of paper. It was sent to code breakers at . Bletchley Park in Buckinghamshire, the intelligence centre where work to . crack the Nazi Enigma code shortened the war by years, and to their . modern-day counterparts at GCHQ in Cheltenham, Gloucestershire, who also . tried to decipher it. History: Historians believe the message, (left) which was written by a Sergeant W. Stott, will provide unique insight into the war. It was discovered rolled up in the red capsule attached to the pigeon (right) Complex: The message contains 27 codes, each made up of combinations of five numbers and letters . The bird could have been on its way to wartime decoding HQ Bletchley Park, in Buckinghamshire (pictured). Code-crackers have been frantically trying to decipher the message, which never reached its intended recipient . Carrier pigeons have been used for centuries and were used in both world wars to convey military messages. They can reach speeds of 80mph and distances of 700 miles. The RAF trained 250,000 birds in World War II, forming the National Pigeon Service. The were so relied upon that the government even introduced a special RAF squadron to cull falcons and hawks who attacked them. The birds would be dropped into Nazi occupied Europe using mini parachutes. They were then picked up and secret messages were inserted into capsules on their legs. The birds would then fly hundreds of miles back home. When they landed, wires in the coop would sound a bell or buzzer and a soldier of the Signal Corps would know a message had arrived. He would go to the coop, remove the message from the canister, and send it to its destination by telegraph, field phone, or personal messenger. Thirty two pigeons were even decorated with the Dicken Medal during the war years - the animal equivalent of the Victoria Cross. Among them was Commando - a pigeon who carried out more than ninety missions during the war. Another was Kenley Lass who was the first bird to deliver intelligence from an agent in enemy-occupied France in October 1940. Dutch Coast delivered an SOS message from a ditched aircrew 288 miles in 7.5 hours in 1942. Mr Martin said: 'I always understood there was no code that couldn't be cracked. I am beginning to think this message contains highly-sensitive orders.' Experts from UK intelligence agency GCHQ said the message, which has 27 five-letter code groups, is impossible to crack without its codebook. They were also left stumped by missing details, such as the date of the message and the identities of the sender, 'Sjt W Stot', and the recipient, 'X02'. A spokesman said: 'Although it is disappointing that we cannot yet read the message brought back by a brave carrier pigeon, it is a tribute to the skills of the wartime code-makers that, despite working under severe pressure, they devised a code that was indecipherable both then and now.' A GCHQ historian told the BBC help from the public is the best hope for any breakthrough.'There are still quite a lot of people alive who worked in communications centres during the war and who might have some knowledge about this and it would be very interesting if anyone did have information if they could put it in the pot and we could see if we could get any further with it,' he said. Some 250,000 pigeons were deployed in . the Second World War. Able to fly at a mile a minute, they carried . messages from behind enemy lines and, like a forerunner of the ‘black . box’, accompanied RAF bomber crews in case they crashed. Experts say the red capsule Mr Martin . found is the type used by the Special Operations Executive. Their human . agents undertook sabotage missions such as blowing up trains, bridges . and factories in German-occupied territory. The message was written by a Sergeant W . Stott and contains  columns of groups of five letters.  It is thought . that its intended recipient, ‘X02’, is code for Bomber Command. One theory is that the message may . have been requesting a bombing raid somewhere. Another is that the . pigeon was bound for Field Marshal Montgomery’s HQ in Reigate, Surrey, . from where he planned the D-Day landings. Homing pigeons were taken on the D-Day . invasion and released  by Allied Forces to keep generals back on . English shores updated on the operation. Some pigeons were based at Bletchley . Park, which is now a museum. But Colin Hill, curator of its permanent . ‘Pigeons at War’ exhibition, said all of the pigeon  messages in its . archives are in long-hand, not code. ‘The message Mr Martin found must be . highly top secret,’ Mr Hill said. ‘The aluminium ring found on the . bird’s leg tells us it was born  in 1940, and we know it’s an Allied . Forces pigeon because of the red capsule it was carrying, but that’s all . we know.’ En route: Experts believe the pigeon and coded . message may have been flying back from Nazi Germany to General . Montgomery Headquarters in Reigate, Surrey. General Montgomery is pictured in 1944 . Stumped: Historical experts at GCHQ have been unable to crack the wartime code . VIDEO: David Martin talks about the moment he discovered the remains of a Second World War homing pidgeon behind his chimney .\n",
            "---\n",
            "(CNN) -- Did you know that the \"frequency hopping\" technology that is vital to much of our military technology and helps keep your cell phone and your GPS devices secure was developed and patented by a famous movie star? Did you know that there was an amazing 16-year-old patriot who outdid Paul Revere, riding 45 miles in the pouring rain to warn New York colonial militias that \"the British are coming\"? Did you know that there was a secret agent, code named \"355,\" who worked for George Washington's band of spies, the Culper Ring? The agent supplied key intelligence on British activities during the Revolutionary War, and she was so good at keeping a secret that we still don't know her real name. If you don't know about all these people, it's understandable. Their stories aren't told widely or often -- perhaps because they were all women. For some reason or other, when the story of our country is told, women -- really great women -- have tended to be left out of the telling. You see the results everywhere you look: . -- A survey of U.S. history textbooks found that only 10% of the individuals identified in the texts were women. -- Less than 8% of the 2,560 national historic landmarks chronicle the achievements of women. -- Of the 210 statues in the U.S. Capitol, only 15 are of female leaders. That's the bad news. The good news is that thanks to a strong bipartisan effort in Congress, we may soon be one step closer to addressing this imbalance by establishing a National Women's History Museum in Washington. Together, we have introduced a common-sense bill to move this idea forward. We have more than 73 bipartisan co-sponsors in the House, 19 in the Senate and a national coalition of women's groups behind us. We recognize money is tight -- that's why we're not asking for taxpayer support. Private donations would fund the museum's construction and operation. A vital part of recognizing equal rights for women is acknowledging and commemorating the deep and lasting contributions women have made throughout history. When young people visit our nation's capital, they should have a chance to be just as inspired by women's accomplishments as men's. We establish and operate museums, not just as some kind of giant drawer in which to store our memorabilia, but as way to celebrate our accomplishments, affirm our shared values and preserve the full and accurate story of our common history. And unfortunately, only half of that story is presently being told. The stories of courageous and pioneering Americans such as abolitionist Harriet Tubman, astronaut Sally Ride, Supreme Court Justice Sandra Day O'Connor and the founder of the Girl Scouts, Juliette Gordon Low, will inform and inspire future generations. The remarkable women who helped to make this country what it is today deserve to have their histories told and preserved for the ages. Their stories of success are the stories that will inspire and encourage millions of women. Our daughters and our sons deserve the chance to learn the story -- the full story -- of how this amazing country came to be. And by the way, the movie star inventor? That was Hedy Lamarr. The 16 year-old who rode farther than Paul Revere was Sybil Ludington. And the spy, code named \"355\"? Well, we still don't know the name -- but we know the patriot was a \"she.\" And just wait until you see all the other amazing women and American history you'll learn about one day soon when the National Women's History Museum opens. Join us on Facebook.com/CNNOpinion. The opinions expressed in this commentary are solely those of Rep. Marsha Blackburn, Rep. Carolyn Maloney, Sen. Susan Collins and Sen. Barbara Mikulski.\n",
            "---\n",
            "(CNN) -- It was 1969 and a busy year for making history: Woodstock, the Miracle Mets, men on the moon -- and something less celebrated but arguably more significant, the birth of the Internet. On October 29 of that year, for perhaps the first time, a message was sent over the network that would eventually become the Web. Leonard Kleinrock, a professor of computer science at the University of California-Los Angeles, connected the school's host computer to one at Stanford Research Institute, a former arm of Stanford University. Forty years ago today, the Internet may have uttered its first word. Twenty years later, Kleinrock chaired a group whose report on building a national computer network influenced Congress in helping develop the modern Internet. Kleinrock holds more than a dozen patents and was awarded the National Medal of Science last year by President Bush. In an interview with CNN, the 75-year-old looks back on his achievements and peers into the exciting and sometimes scary future of the Web he helped create. CNN: In basic terms, what happened on October 29, 1969, and what was its importance to the Internet as we know it today? Kleinrock: Millions of people helped create this Internet. I basically supervised the creation of the Internet at the first node, both in the first connection and the very first message. We had just by then connected the first two host computers to the Internet. The first one was on September 2, 1969, when UCLA connected its host computer to the first packet switcher, the first router if you will, ever on the Internet. But there was no other computer to talk to. So a month later, Stanford Research Institute received its interface message processor, or IMP, connected it to their host computer, and we created the first piece of the backbone network when a 50-kilobit-per-second line was connected between UCLA and SRI. What we wanted to do was send a message essentially from UCLA to SRI's host. And frankly, all we wanted to do was log in -- to type an l-o-g, and the remote time-sharing system knows what you're trying to do. So we typed the \"l,\" and we asked over the phone, \"Did you get the 'l?' \" And the response came back, \"Yep, we got the 'l.' \" We typed the \"o.\" \"Got the 'o?' \" \" 'Yep, got the 'o.' \" Typed the 'g.' \"You get the 'g?' \" Crash! SRI's host crashed at that point. So the very first message ever on the Internet was the very simple, very prophetic \"lo,\" as in lo and behold. And, you know, we weren't aware that this was a significant event that would be recorded in history. We did not have a very effective message like \"What hath God wrought\" or \"Come here, Watson, I need you.\" Or \"One giant leap for mankind.\" We just weren't that smart. When the host computers talked to each other, I like to say the Internet uttered its first words on that day. CNN: Before October 29, 1969, was no computer talking to any other computer? Kleinrock: Well, typically not over a data connection, no. What was going on at that time was that many users sitting at terminals were connected to time-sharing systems with a local connection. But that was just connecting to a single computer. CNN: UCLA sent a press release about your work in July of 1969, just a few months before your October breakthrough. At the time, did you have any idea how far-reaching all this was? Kleinrock: Basically, I said the Internet will be always on, always available, [and that] everybody with any device could connect to the Internet from any time and any location, and it would be as invisible as electricity. What I missed was the social aspect, namely that my 99-year-old mother would be on the Internet, as she was until she passed away two years ago. And by the way, at the same time, my preschool granddaughter would be on the Internet. CNN: What is feature shock? Kleinrock: Feature shock is a term I coined some years ago. Systems [such as Windows or Safari] contain an enormous number of features, each one of which may be valuable by itself, but no one is really able to use all the features. However, because you've essentially paid for all those features, you feel guilty if you don't exploit them. So you spend time learning to use them. I'm a power user of PowerPoint. I spend thousands of hours learning how to use it effectively. If someone came along with a new version of PowerPoint that has a different interface than the one I'm used to, and [even] if it were twice as good as PowerPoint, I wouldn't bother installing it. We're overwhelmed by [features]; we don't know how to use them. It slows down the rate at which new applications and features are accepted by the public because of this investment they have in their thousands of hours of learning. And I consider that a good thing. It allows a little more mature thinking in how we start hopping around in technologies and thereby losing the experience and history we had before. There's a kind of a measured way in which people will adopt new technology, and I think that's helpful. CNN: What are you up to these days in the development of the Internet? Kleinrock: I'm working on what we call smart spaces, whereby the cyberspace comes out from behind the [computer] screen, where most people consider it residing, and moves out into your physical space so that there will be intelligence and embedded technology in the walls of your room, in your desk, in your fingernails, in your eyeglasses, in your automobile, in your hotel rooms all across the world as you move around. CNN: If computers will be doing so much of our thinking for us, does that mean our brains will get less of a workout? Kleinrock: It's always been the goal and desire of we technologists that as we provide capability that computers are good at -- number crunching, file storage, massive databases that can be searched -- that it would free us up to do the things that humans do so well, like pattern recognition and putting thoughts together, intuition and innovation. So it may relieve us of some of the mundane things that we don't do well. On the other hand, I personally regret that the youth of today are depending so much for their simple arithmetic calculations on these handheld calculators or wristwatch calculators that they don't know how to make change in the supermarkets anymore. CNN: What other dangers could be ahead? Kleinrock: There's a very dark side to the Internet, which we're all familiar with. It started with a worm in 1988, and it became spam in 1994, and now we have pornography, we have denial of service [attacks], we have identity theft, we have fraud, we have things like botnets [pieces of software that cyberthieves use to remotely and secretly control your computer], which really worry me. One of the problems of the Internet is that we didn't install what I like to call strong user authentication or strong file authentication. We didn't anticipate the level of the dark side we see today. The culture of the early Internet was one of trust of all the users. I knew every user on the Internet in those early days. It was an open culture. We shared everything we did. We got our gratification by putting things out there, which people could use. And there was an etiquette -- net etiquette if you will, which people behaved. CNN: What about privacy? Is it dead? Kleinrock: Yes, in a word. Yes. And it was voluntarily given up in many cases. I mean, when someone lists their telephone number or uses their credit card or makes a cell phone call or even carries around a cell phone, that's an awful lot of info about where you are, what you're doing and some of your private matters. There are cameras all over the place, and they're increasing in number. I like to say the only privacy we can expect is to go to the edge of the ocean, strip down and jump in and hope there's no sonar down there tracking you, by the way, which there will be soon. CNN: Do you like to play video games over the Internet? Kleinrock: The answer is no, no. I'm not of that generation. Nor do I use Facebook or Twitter. I've got enough things that demand my attention. ... E-mail is a wonderful black hole for my time. I don't want to have to answer tweets and SMS messages, following friends, etc. It's too demanding and too frivolous in many ways. CNN: Do you have a certain emotional tie to the Internet as if it were a member of the family? Kleinrock: Of course I do, and it's part and parcel to my DNA. But it's as aggravating to me as to anyone else in terms of when it doesn't work, when the applications don't work. CNN: Were you always an inventor? Kleinrock: When I was about 6 years old, I built a crystal radio from instructions I found in a Superman comic book. The thing that fascinated me was, I could basically get all the parts at no cost. I was totally enchanted. This was magic, and I spent the rest of my life trying to figure out how that works. Life is one big puzzle for me in the positive sense. There are a lot of things to play with. And they pay me for it.\n",
            "---\n",
            "(CNN) -- Auto-correct and \"Angry Birds.\" GPS, and those awkward texts from last night. Mobile phones, and their promise of unprecedented connectivity, have altered the way we live. And it all started 40 years ago today. That's when Martin Cooper, a vice president at Motorola, stepped onto a New York City sidewalk and made the first known cellphone call in history. And, whether you thank him or blame him, we haven't stopped talking, texting and tweeting since. In the time since Cooper brandished what would become the DynaTAC phone, our mobiles have gone from now-laughably clunky bricks to sleek, stylized slivers of technology. Now they're becoming fashionably monstrous with phone-tablet hybrids like the Galaxy Note. And, along the way, they've changed everything. \"We knew that someday everybody would have a (cell) phone, but it was hard to imagine that that would happen in my lifetime,\" Cooper said to CNN last year. \"And now we've got almost five billion phones in the world. Wow.\" Cooper and his team had been in a race with AT&T's Bell Labs to create a cellphone. They'd worked for about three months on the model he walked outside with on April 3, 1973. And that first call? It was to AT&T's Joel Engell, who headed up Bell Labs. \"I called and told him, 'Joel, I'm calling you from a cellular phone, a real cellular phone, a handheld, portable, real cellular phone',\" Cooper recalled. And, as he recalls it, his rival wasn't quite as talkative. \"I don't remember exactly what he said, but it was really quiet for a while,\" he said. \"My assumption was that he was grinding his teeth. He was very polite and ended the call. When asked about it, he says he has no recollection of this moment.\" It would take 10 years for a version of that DynaTAC (Dynamic Adaptive Total Area Coverage) phone to hit the market, for a hefty $3,900. The kind of phone Gordon Gekko wielded in \"Wall Street,\" it weighed 2.5 pounds and was about a foot tall. Compare that to the iPhone 5, which weighs in at under 4 ounces, is less than 5 inches from top to bottom and sells at prices starting at $199. Not that Cooper, now 84, necessarily embraces every aspect of the latest advances in the field he helped create. \"I must tell you as much as we were dreamers, we never imagined that all these things could be combined into one. And I'm really not so sure that it's a great thing,\" he said. \"Phones have gotten so complicated, so hard to use, that you wonder if this is designed for real people or for engineers.\" What Cooper foresees for phones .\n",
            "---\n"
          ]
        }
      ],
      "source": [
        "for doc in context[\"matches\"]:\n",
        "    print(doc[\"metadata\"][\"passage_text\"], end='\\n---\\n')"
      ]
    },
    {
      "cell_type": "markdown",
      "metadata": {
        "id": "bH-K7WHR9z8m"
      },
      "source": [
        "In this case, the answer looks correct. If we ask a question and no relevant contexts are retrieved, the generator will typically return nonsensical or false answers, like with this question about COVID-19:"
      ]
    },
    {
      "cell_type": "code",
      "execution_count": 27,
      "metadata": {
        "colab": {
          "base_uri": "https://localhost:8080/"
        },
        "id": "T1naD6pRlmWd",
        "outputId": "1cca6264-5327-41ff-a5af-1498e9d561f6"
      },
      "outputs": [
        {
          "name": "stdout",
          "output_type": "stream",
          "text": [
            "(\"It's not clear where COVID-19 came from, but it's possible that it's \"\n",
            " 'descended from the 1918 Spanish Flu. The 1918 Spanish Flu pandemic killed up '\n",
            " 'to 80 million people')\n"
          ]
        }
      ],
      "source": [
        "query = \"where did COVID-19 originate?\"\n",
        "context = query_pinecone(query, top_k=3)\n",
        "query = format_query(query, context[\"matches\"])\n",
        "generate_answer(query)"
      ]
    },
    {
      "cell_type": "code",
      "execution_count": 28,
      "metadata": {
        "id": "W3gX5xQY-jKJ"
      },
      "outputs": [
        {
          "name": "stdout",
          "output_type": "stream",
          "text": [
            "By . Anna Hodgekiss . PUBLISHED: . 11:30 EST, 1 May 2013 . | . UPDATED: . 11:51 EST, 1 May 2013 . A deadly bird flu virus sweeping through China has taken the first steps towards becoming a global threat to humans, experts have revealed. In the space of one month, the avian strain known as H7N9 has spread through all 31 Chinese provinces and claimed 125 victims, killing a fifth of those infected. Scientists say it is mutating rapidly and already has two of five genetic changes believed to be necessary for human-to-human transmission. Experts speaking in London today said . there was no room for complacency over H7N9, and warned against the . mistake of assuming it was a far-away foreign problem. A Chinese tourist wears a face mask in front of a portrait of leader Sun Yat-sen at Tiananmen Square in Beijing. Scientists say it is mutating rapidly and becoming more of a threat to humans . GPs have been sent letters advising them on how to identify cases and what action to take if one is suspected. So far the the virus has been found . in chickens and only affected people who have had close contact with the . birds, often at live markets. If it were to become fully adapted to human hosts it could result in a serious worldwide pandemic claiming millions of lives. The 1918 Spanish Flu pandemic - the worst flu pandemic in modern history - killed up to 80 million people worldwide and is believed to have originated in birds. Research is ongoing into how the virus is behaving and what makes it so virulent. The virus has infected people of all age groups, from two to 81, suggesting that humans have no natural immunity to it. So far 20 per cent of victims have died, 20 per cent are recovering and the rest remain ill. In fatal cases, the virus has triggered sepsis - a massive inflammatory response - leading to multiple organ failure. Leading British expert Professor Peter . Openshaw, director of the Centre for Respiratory Infection at Imperial . College London, said: 'This is a very, very serious disease in those who . have been infected. So if this were to become more widespread it would . be an extraordinarily devastating outbreak. The bird flu virus is mutating rapidly and already has two of five genetic changes believed to be necessary for human-to-human transmission . 'It's very unusual to see more than 100 new cases in a very short time period. I think it's definitely something we need to be concerned about.' Scientists have learned lessons from the H5N1 bird flu strain which also emerged in China, and since 2003 has led to 628 confirmed cases in 15 countries and 374 deaths. With a 60 per cent mortality rate, H5N1 is even more deadly than the new strain. Luckily it has not yet shown any sign of making the jump to human-to-human transmission. Although there is no reason to think that H7N9 will acquire this ability any time soon, it already displays some degree of human adaptation. In H5N1, five key genetic changes were identified that scientists believe are needed for the virus to become a potential pandemic threat. Laboratory studies have revealed two of . these mutations in H7N9. One of them is integral to the 'H7' part of its . structure and enables the virus to latch onto certain receptor . molecules in the human respiratory tract. It is seen even when the virus . is confined to chickens. British experts today warned against the mistake of assuming it was a far-away foreign problem . The other has only been acquired after human infection and helps the virus to replicate inside cells. How easy or difficult it might be for the other three changes to occur, and to what extent H7N9 needs the same mutations as H5N1 to pass between humans, is unknown. 'There are hallmarks of human adaptation in the virus,' said Professor Wendy Barclay, chairwoman of influenza virology at Imperial College London. 'What that means is that the virus is mutating rapidly still and acquiring selective adaptive mutations when it crosses into people.' Although H7N9 readily infects chickens, . and probably wild birds, it does not kill them - unlike H5N1. This makes . it extremely difficult to track and hinders attempts to reduce the . chances of human infection. One previous outbreak of an 'H7' flu . strain was recorded in the Netherlands in 2003. However this was a very . different sub-type of virus, since it caused non-fatal eye infections. A teacher guides a student on how to use disinfectant in a junior high school in Taipei, Taiwan . Dr John Watson, head of respiratory diseases at Public Health England, the body that has taken over from the Health Protection Agency, said it was important not to assume there was no threat to the UK. 'It might be tempting to feel, fine, let's just sit back and wait,' he said. 'We feel it's important nevertheless to be taking this very seriously, because of the illness that it's caused, because of the novelty, and because of the possibilities there are about what it does next.' An ever present possibility is someone importing the virus into the UK from China. If a case were confirmed, the patient would have to be isolated and treated quickly. Details of his or her history and contacts with other people would also have to be obtained. The experts pointed out that the virus was sensitive to antiviral drugs such as Tamiflu, stocks of which remained in the UK after the swine flu pandemic of 2009-10. Currently there is no readily available vaccine against the strain.\n",
            "---\n",
            "GENEVA, Switzerland (CNN) -- The World Health Organization on Wednesday raised its pandemic alert to 5, its second-highest level, warning of widespread human infection from the swine flu outbreak that originated in Mexico. Patients wait at a hospital Wednesday in Mexico City. The swine flu outbreak began in Mexico. Dr. Margaret Chan, the U.N. agency's director-general, said the decision to raise the alert on the 6-point scale indicated that all countries should \"immediately\" activate pandemic preparedness plans. \"This change to a higher phase of alert is a signal to governments, to ministries of health and other ministries, to the pharm industry and the business community that certain actions now should be taken with increased urgency and at an accelerated pace,\" Chan said. The announcement came as the number of confirmed cases increased rapidly across the world. The WHO and national governments have confirmed 148 cases in nine countries. Most of those cases are in the United States, where the Centers for Disease Control and Prevention has confirmed 91 cases. The figures include seven deaths in Mexico and one in the United States. More than 2,700 other patients worldwide are believed to be suffering from the virus that government officials call by its technical name, 2009 H1N1. The first cases of the virus were detected in Mexico, where health officials suspect swine flu in more than 150 other deaths and roughly 2,500 illnesses. As of late Wednesday, 99 cases had been confirmed -- up from 26, Mexico's health secretary reported. An eighth fatality was also confirmed. iReport.com: \"Regular life\" in Mexico with masks . The additional cases and fatality were not immediately confirmed by WHO . Researchers do not know how the virus is jumping relatively easily from person to person, or why it's affecting what should be society's healthiest demographic. Many of the victims who have died in Mexico have been young and otherwise healthy. The outbreak has prompted Mexican authorities to order about 35,000 public venues in Mexico City to shut down and restrict restaurants to serving only take-out meals. All nonessential government offices and private business were ordered to close between May 1-5, with only skeletal staffing allowed when necessary, Mexico's health secretary announced Wednesday. Mexican officials said it was too soon to determine what kind of economic impact the decision would have on the country. Germany and Austria became the latest European countries to report swine flu on Wednesday, while the number of cases increased in the United Kingdom and Spain. Peru reported its first case late Wednesday. Yet Chan reiterated the WHO's recommendation not to close borders or restrict trade in response to the outbreak, saying the world \"is better prepared for an influenza pandemic than at any time\" in history.  Watch how the U.S. is preparing for the worst » . \"We need to maintain a level of calmness so that we will continue to manage this in a rational manner,\" she said, adding that pork is safe for consumption as long as it is cooked properly. President Obama downplayed the possibility of closing the U.S. border with Mexico, where the recent occurrence of the deadly virus began. \"It would be akin to closing the barn door after the horses are out,\" Obama said during his Wednesday evening news conference. Obama said he'll be looking to health officials for guidance on how to handle travel between the two countries. The $1.5 billion Obama requested from Congress to help fight the outbreaks will help health officials monitor and track the virus and replenish the supply of anti-viral drugs, he said.  Watch President Obama caution Americans on swine flu » . Swine influenza, or flu, is a contagious respiratory disease that affects pigs. When the flu spreads person to person, instead of from animals to humans, it can continue to mutate, making it harder to treat or fight, because people have no natural immunity. Symptoms include fever, runny nose, sore throat, nausea, vomiting and diarrhea. The WHO's \"Phases of Pandemic Alert,\" which has been in existence for five years, characterizes phase 5 as a human-to-human spread of the virus into at least two countries in one WHO region, signaling that a pandemic is imminent. The highest level, phase 6, is defined by community-level outbreaks in at least one other country in a different WHO region, according to the agency. About a quarter of the U.S. stockpile of anti-viral drugs will be distributed to states by Sunday, Homeland Security Secretary Janet Napolitano said.  Watch how U.S. officials are reacting to the virus » . U.S. officials also are asking scientists whether additional measures to screen for flu symptoms were needed at U.S. ports of entry, she said. Already, customs officers have asked 49 people to submit to tests for the H1N1 virus, she said. Of those tests, 41 have been negatives and the remaining eight have not yet come back. Researchers in the United States have already taking steps to crack the genetic code of the virus behind the swine flu outbreak in order to produce a vaccine, U.S. officials said Wednesday. The U.S. government is distributing 25 percent of its stockpile of antiviral medications Tamiflu and Relenza to all states, Homeland Security Secretary Janet Napolitano said Wednesday. Health officials stress that the medications are effective only if taken in the early stages of the infection.  Learn more about swine flu and how to treat it » . The 91 confirmed cases in the United States includes the country's first swine flu fatality: a 23-month-old child visiting from Mexico who died Monday at a Houston, Texas, hospital. A U.S. Marine in California is the military's first suspected case of swine flu, and three military family members in San Diego have confirmed cases, the CDC said. As a precaution, the military is banning travel to Mexico for nonessential personnel. Mexican officials also said they believe they may have found \"patient zero\" -- the first case of the global outbreak -- in the small mountain village of La Gloria. Edgar Hernandez, 5, survived the earliest documented case of swine flu. He lives near a pig farm, though experts have not established a connection between that and his illness. Edgar has managed to bounce back from his symptoms and playfully credits ice cream for helping him feel better. In the United States, at least 74 elementary, junior high and high schools have closed across the country due to confirmed or probable cases of swine flu, the Department of Education said Wednesday. Another 30 schools have closed as a precautionary measure, Department of Education spokesman Massie Ritsch said. Governments around the world are scrambling to prevent further outbreak. Some countries, such as China and Russia, have banned pork imports from the United States and Mexico, though the WHO said the disease is not transmitted through eating or preparing pig meat. Several other countries, such as Japan and Indonesia, are using thermographic devices to test the temperature of passengers arriving from Mexico. Egypt reportedly is considering culling all pigs although there have been no reported cases of swine flu there. Common seasonal flu kills 250,000 to 500,000 people every year worldwide, far more than the current outbreak of swine flu. But there is a vaccine for seasonal flu. CNN's Dr. Sanjay Gupta and Barbara Starr contributed to this report.\n",
            "---\n",
            "By . Associated Press . An Indiana man has become the first American to be infected with a deadly virus that has swept across the Middle East, it was announced today. The man fell ill after arriving in the U.S. about a week ago from Saudi Arabia where he is a health care worker. He traveled via London to Chicago before getting a bus to Indiana, according to local TV station WTHR. He is hospitalized in Indiana with Middle East respiratory syndrome, or MERS, according to the Centers for Disease Control and Prevention, which is investigating the case along with Indiana health officials. Saudi Arabia has been the center of an outbreak of MERS that began about two years ago. At least 400 people have had the respiratory illness, and more than 100 people have died. Scroll down for video . Spreading: A health worker who recently returned to Indiana from Saudi Arabia has the first American case of SARS . All had ties to the Middle East or to . people who traveled there. Infections have been previously reported . among health care workers. MERS belongs to the coronavirus family that includes the common cold and SARS, or severe acute respiratory syndrome, which caused some 800 deaths globally in 2003. The MERS virus has been found in camels, but officials don't know how it is spreading to humans. It can spread from person to person, but officials believe that happens only after close contact. Not all those exposed to the virus become ill. But it appears to be unusually lethal — by some estimates, it has killed nearly a third of the people it sickened. That's a far higher percentage than seasonal flu or other routine infections. But it is not as contagious as flu, measles or other diseases. There is no vaccine or cure for MERS. Health experts are particularly concerned about the spread of MERS. In Saudi Arabia alone, there have been 345 reported cases and 100 deaths . The CDC on Friday released only limited information about the U.S. case: The man flew to the United States about a week ago, with a stop in London. He landed in Chicago and took a bus to the neighboring state of Indiana. He didn't become sick until arriving in Indiana, the CDC said. Symptoms include fever, cough, breathing problems, which can lead to pneumonia and kidney failure. CDC officials say they are sending a team to investigate the man's illness, his travel history and to track down people he may have been in close contact with. Saudi Arabia health officials have recently reported a surge in MERS illnesses; cases have tended to increase in the spring. Experts think the uptick may party be due to more and better surveillance. Researchers at Columbia University have an additional theory — there may be more virus circulating in the spring, when camels are born. U.S. health officials have been bracing for the arrival of one or more cases, likely among travelers. Isolated cases of MERS have been carried outside the Middle East. Previously, 163 suspected cases were tested in the U.S. but none confirmed.\n",
            "---\n"
          ]
        }
      ],
      "source": [
        "for doc in context[\"matches\"]:\n",
        "    print(doc[\"metadata\"][\"passage_text\"], end='\\n---\\n')"
      ]
    },
    {
      "cell_type": "markdown",
      "metadata": {
        "id": "yCUqB_MrAABI"
      },
      "source": [
        "Let’s finish with a final few questions."
      ]
    },
    {
      "cell_type": "code",
      "execution_count": 29,
      "metadata": {
        "colab": {
          "base_uri": "https://localhost:8080/"
        },
        "id": "F_oWypShW_rk",
        "outputId": "339e0e93-feeb-44f4-a9f0-b894190186cd"
      },
      "outputs": [
        {
          "name": "stdout",
          "output_type": "stream",
          "text": [
            "('The War of Currents was a series of conflicts that took place in the early '\n",
            " '20th century, and was the culmination of a series of conflicts that had been '\n",
            " 'going on for centuries. The')\n"
          ]
        }
      ],
      "source": [
        "query = \"what was the war of currents?\"\n",
        "context = query_pinecone(query, top_k=5)\n",
        "query = format_query(query, context[\"matches\"])\n",
        "generate_answer(query)"
      ]
    },
    {
      "cell_type": "code",
      "execution_count": 30,
      "metadata": {
        "colab": {
          "base_uri": "https://localhost:8080/"
        },
        "id": "bJ1-OsmT0duI",
        "outputId": "09eeac3c-7e76-4e1c-9913-39a3a91bdefd"
      },
      "outputs": [
        {
          "name": "stdout",
          "output_type": "stream",
          "text": [
            "('The first person to walk on the moon was Neil Armstrong, who walked on the '\n",
            " 'moon on July 20, 1969.')\n"
          ]
        }
      ],
      "source": [
        "query = \"who was the first person on the moon?\"\n",
        "context = query_pinecone(query, top_k=10)\n",
        "query = format_query(query, context[\"matches\"])\n",
        "generate_answer(query)"
      ]
    },
    {
      "cell_type": "code",
      "execution_count": 31,
      "metadata": {
        "colab": {
          "base_uri": "https://localhost:8080/"
        },
        "id": "JU6DH-ah1g1t",
        "outputId": "62993905-10cc-4807-82c2-2512811ca8db"
      },
      "outputs": [
        {
          "name": "stdout",
          "output_type": "stream",
          "text": [
            "('The Space Shuttle was the most expensive project in the history of the US '\n",
            " 'government. It cost about $10 billion to build.')\n"
          ]
        }
      ],
      "source": [
        "query = \"what was NASAs most expensive project?\"\n",
        "context = query_pinecone(query, top_k=3)\n",
        "query = format_query(query, context[\"matches\"])\n",
        "generate_answer(query)"
      ]
    },
    {
      "cell_type": "markdown",
      "metadata": {
        "id": "K-cQPSkG9cFY"
      },
      "source": [
        "As we can see, the model can generate some decent answers."
      ]
    },
    {
      "cell_type": "markdown",
      "metadata": {
        "id": "CExzACOhY2tJ"
      },
      "source": [
        "#### Add a few more questions"
      ]
    },
    {
      "cell_type": "code",
      "execution_count": 32,
      "metadata": {
        "colab": {
          "base_uri": "https://localhost:8080/"
        },
        "id": "C2Wnlr4dY2tJ",
        "outputId": "49c452f6-6642-4f2a-e752-cbd1937744e9"
      },
      "outputs": [
        {
          "name": "stdout",
          "output_type": "stream",
          "text": [
            "('The wheel was first invented in the early 19th century. The wheel was '\n",
            " 'invented by a man named Charles Wicksteed, who was an engineer by trade. The '\n",
            " 'wheel was first used in')\n"
          ]
        }
      ],
      "source": [
        "query = \"When the wheel was first invented?\"\n",
        "context = query_pinecone(query, top_k=3)\n",
        "query = format_query(query, context[\"matches\"])\n",
        "generate_answer(query)"
      ]
    },
    {
      "cell_type": "code",
      "execution_count": 33,
      "metadata": {
        "colab": {
          "base_uri": "https://localhost:8080/"
        },
        "id": "6v2URYe7LlVO",
        "outputId": "b50d6c14-3862-464d-cdd9-54504c005274"
      },
      "outputs": [
        {
          "name": "stdout",
          "output_type": "stream",
          "text": [
            "('The tallest mountain on Earth is Mount Everest, which is about 6,000 feet '\n",
            " 'tall. The tallest mountain on the Moon is the highest mountain on the Moon, '\n",
            " 'which is about 6,000')\n"
          ]
        }
      ],
      "source": [
        "query = \"What is the highest mounten on earth?\"\n",
        "context = query_pinecone(query, top_k=3)\n",
        "query = format_query(query, context[\"matches\"])\n",
        "generate_answer(query)"
      ]
    },
    {
      "cell_type": "code",
      "execution_count": null,
      "metadata": {},
      "outputs": [],
      "source": []
    }
  ],
  "metadata": {
    "accelerator": "GPU",
    "colab": {
      "gpuType": "T4",
      "provenance": []
    },
    "kernelspec": {
      "display_name": "Python 3",
      "language": "python",
      "name": "python3"
    },
    "language_info": {
      "codemirror_mode": {
        "name": "ipython",
        "version": 3
      },
      "file_extension": ".py",
      "mimetype": "text/x-python",
      "name": "python",
      "nbconvert_exporter": "python",
      "pygments_lexer": "ipython3",
      "version": "3.13.3"
    },
    "widgets": {
      "application/vnd.jupyter.widget-state+json": {
        "00b74f4f70a6412faddadb3eb800fe00": {
          "model_module": "@jupyter-widgets/controls",
          "model_module_version": "1.5.0",
          "model_name": "HTMLModel",
          "state": {
            "_dom_classes": [],
            "_model_module": "@jupyter-widgets/controls",
            "_model_module_version": "1.5.0",
            "_model_name": "HTMLModel",
            "_view_count": null,
            "_view_module": "@jupyter-widgets/controls",
            "_view_module_version": "1.5.0",
            "_view_name": "HTMLView",
            "description": "",
            "description_tooltip": null,
            "layout": "IPY_MODEL_72aa8c9afcfb43828543dc359293f4c9",
            "placeholder": "​",
            "style": "IPY_MODEL_e03ed0ffab44459ea2b4108752da24c5",
            "value": " 0/0 [00:00&lt;?, ?it/s]"
          }
        },
        "05ab9bbd11a84630ba83ec19b598d4e4": {
          "model_module": "@jupyter-widgets/controls",
          "model_module_version": "1.5.0",
          "model_name": "HTMLModel",
          "state": {
            "_dom_classes": [],
            "_model_module": "@jupyter-widgets/controls",
            "_model_module_version": "1.5.0",
            "_model_name": "HTMLModel",
            "_view_count": null,
            "_view_module": "@jupyter-widgets/controls",
            "_view_module_version": "1.5.0",
            "_view_name": "HTMLView",
            "description": "",
            "description_tooltip": null,
            "layout": "IPY_MODEL_5b9ae700d48547039cf2a46fa35a70ea",
            "placeholder": "​",
            "style": "IPY_MODEL_5b2350a5c5ac44878eef889f0a320e63",
            "value": " 49999/50000 [08:32&lt;00:00, 152.80it/s]"
          }
        },
        "0c5636610ccc489b95fc64f3af49d1bf": {
          "model_module": "@jupyter-widgets/controls",
          "model_module_version": "1.5.0",
          "model_name": "ProgressStyleModel",
          "state": {
            "_model_module": "@jupyter-widgets/controls",
            "_model_module_version": "1.5.0",
            "_model_name": "ProgressStyleModel",
            "_view_count": null,
            "_view_module": "@jupyter-widgets/base",
            "_view_module_version": "1.2.0",
            "_view_name": "StyleView",
            "bar_color": null,
            "description_width": ""
          }
        },
        "11d80713fc664fe389dcb7ce922b7d11": {
          "model_module": "@jupyter-widgets/controls",
          "model_module_version": "1.5.0",
          "model_name": "HTMLModel",
          "state": {
            "_dom_classes": [],
            "_model_module": "@jupyter-widgets/controls",
            "_model_module_version": "1.5.0",
            "_model_name": "HTMLModel",
            "_view_count": null,
            "_view_module": "@jupyter-widgets/controls",
            "_view_module_version": "1.5.0",
            "_view_name": "HTMLView",
            "description": "",
            "description_tooltip": null,
            "layout": "IPY_MODEL_4382b0f89c3242f3a5d3e202c5a113e2",
            "placeholder": "​",
            "style": "IPY_MODEL_2165da93b5d642a18fca7497c303532c",
            "value": " 4.58k/4.58k [00:00&lt;00:00, 163kB/s]"
          }
        },
        "1fe658e1186740cd8c4441fe04aaf2b9": {
          "model_module": "@jupyter-widgets/base",
          "model_module_version": "1.2.0",
          "model_name": "LayoutModel",
          "state": {
            "_model_module": "@jupyter-widgets/base",
            "_model_module_version": "1.2.0",
            "_model_name": "LayoutModel",
            "_view_count": null,
            "_view_module": "@jupyter-widgets/base",
            "_view_module_version": "1.2.0",
            "_view_name": "LayoutView",
            "align_content": null,
            "align_items": null,
            "align_self": null,
            "border": null,
            "bottom": null,
            "display": null,
            "flex": null,
            "flex_flow": null,
            "grid_area": null,
            "grid_auto_columns": null,
            "grid_auto_flow": null,
            "grid_auto_rows": null,
            "grid_column": null,
            "grid_gap": null,
            "grid_row": null,
            "grid_template_areas": null,
            "grid_template_columns": null,
            "grid_template_rows": null,
            "height": null,
            "justify_content": null,
            "justify_items": null,
            "left": null,
            "margin": null,
            "max_height": null,
            "max_width": null,
            "min_height": null,
            "min_width": null,
            "object_fit": null,
            "object_position": null,
            "order": null,
            "overflow": null,
            "overflow_x": null,
            "overflow_y": null,
            "padding": null,
            "right": null,
            "top": null,
            "visibility": null,
            "width": null
          }
        },
        "2165da93b5d642a18fca7497c303532c": {
          "model_module": "@jupyter-widgets/controls",
          "model_module_version": "1.5.0",
          "model_name": "DescriptionStyleModel",
          "state": {
            "_model_module": "@jupyter-widgets/controls",
            "_model_module_version": "1.5.0",
            "_model_name": "DescriptionStyleModel",
            "_view_count": null,
            "_view_module": "@jupyter-widgets/base",
            "_view_module_version": "1.2.0",
            "_view_name": "StyleView",
            "description_width": ""
          }
        },
        "2ccafd9b60be488fb0427ff8a5aae5aa": {
          "model_module": "@jupyter-widgets/controls",
          "model_module_version": "1.5.0",
          "model_name": "HTMLModel",
          "state": {
            "_dom_classes": [],
            "_model_module": "@jupyter-widgets/controls",
            "_model_module_version": "1.5.0",
            "_model_name": "HTMLModel",
            "_view_count": null,
            "_view_module": "@jupyter-widgets/controls",
            "_view_module_version": "1.5.0",
            "_view_name": "HTMLView",
            "description": "",
            "description_tooltip": null,
            "layout": "IPY_MODEL_1fe658e1186740cd8c4441fe04aaf2b9",
            "placeholder": "​",
            "style": "IPY_MODEL_f6d49a921dca40c19521f9466a84675c",
            "value": ""
          }
        },
        "38386117db7a4d5aa6b6c0f5e9dd6a95": {
          "model_module": "@jupyter-widgets/controls",
          "model_module_version": "1.5.0",
          "model_name": "HBoxModel",
          "state": {
            "_dom_classes": [],
            "_model_module": "@jupyter-widgets/controls",
            "_model_module_version": "1.5.0",
            "_model_name": "HBoxModel",
            "_view_count": null,
            "_view_module": "@jupyter-widgets/controls",
            "_view_module_version": "1.5.0",
            "_view_name": "HBoxView",
            "box_style": "",
            "children": [
              "IPY_MODEL_56824744d88c451e9513883e0fab366a",
              "IPY_MODEL_96368ebe17894a789353ccc74c8b3c90",
              "IPY_MODEL_11d80713fc664fe389dcb7ce922b7d11"
            ],
            "layout": "IPY_MODEL_5e63fc25ca524e67b2bb6cbaf9984692"
          }
        },
        "3d68b89be9c54824a0b04754c101e5d9": {
          "model_module": "@jupyter-widgets/base",
          "model_module_version": "1.2.0",
          "model_name": "LayoutModel",
          "state": {
            "_model_module": "@jupyter-widgets/base",
            "_model_module_version": "1.2.0",
            "_model_name": "LayoutModel",
            "_view_count": null,
            "_view_module": "@jupyter-widgets/base",
            "_view_module_version": "1.2.0",
            "_view_name": "LayoutView",
            "align_content": null,
            "align_items": null,
            "align_self": null,
            "border": null,
            "bottom": null,
            "display": null,
            "flex": null,
            "flex_flow": null,
            "grid_area": null,
            "grid_auto_columns": null,
            "grid_auto_flow": null,
            "grid_auto_rows": null,
            "grid_column": null,
            "grid_gap": null,
            "grid_row": null,
            "grid_template_areas": null,
            "grid_template_columns": null,
            "grid_template_rows": null,
            "height": null,
            "justify_content": null,
            "justify_items": null,
            "left": null,
            "margin": null,
            "max_height": null,
            "max_width": null,
            "min_height": null,
            "min_width": null,
            "object_fit": null,
            "object_position": null,
            "order": null,
            "overflow": null,
            "overflow_x": null,
            "overflow_y": null,
            "padding": null,
            "right": null,
            "top": null,
            "visibility": null,
            "width": "20px"
          }
        },
        "41eebeac49f940d1a89484dacf8dc32e": {
          "model_module": "@jupyter-widgets/controls",
          "model_module_version": "1.5.0",
          "model_name": "DescriptionStyleModel",
          "state": {
            "_model_module": "@jupyter-widgets/controls",
            "_model_module_version": "1.5.0",
            "_model_name": "DescriptionStyleModel",
            "_view_count": null,
            "_view_module": "@jupyter-widgets/base",
            "_view_module_version": "1.2.0",
            "_view_name": "StyleView",
            "description_width": ""
          }
        },
        "4382b0f89c3242f3a5d3e202c5a113e2": {
          "model_module": "@jupyter-widgets/base",
          "model_module_version": "1.2.0",
          "model_name": "LayoutModel",
          "state": {
            "_model_module": "@jupyter-widgets/base",
            "_model_module_version": "1.2.0",
            "_model_name": "LayoutModel",
            "_view_count": null,
            "_view_module": "@jupyter-widgets/base",
            "_view_module_version": "1.2.0",
            "_view_name": "LayoutView",
            "align_content": null,
            "align_items": null,
            "align_self": null,
            "border": null,
            "bottom": null,
            "display": null,
            "flex": null,
            "flex_flow": null,
            "grid_area": null,
            "grid_auto_columns": null,
            "grid_auto_flow": null,
            "grid_auto_rows": null,
            "grid_column": null,
            "grid_gap": null,
            "grid_row": null,
            "grid_template_areas": null,
            "grid_template_columns": null,
            "grid_template_rows": null,
            "height": null,
            "justify_content": null,
            "justify_items": null,
            "left": null,
            "margin": null,
            "max_height": null,
            "max_width": null,
            "min_height": null,
            "min_width": null,
            "object_fit": null,
            "object_position": null,
            "order": null,
            "overflow": null,
            "overflow_x": null,
            "overflow_y": null,
            "padding": null,
            "right": null,
            "top": null,
            "visibility": null,
            "width": null
          }
        },
        "4f8e93b6c6354434997475440bd6b0ec": {
          "model_module": "@jupyter-widgets/base",
          "model_module_version": "1.2.0",
          "model_name": "LayoutModel",
          "state": {
            "_model_module": "@jupyter-widgets/base",
            "_model_module_version": "1.2.0",
            "_model_name": "LayoutModel",
            "_view_count": null,
            "_view_module": "@jupyter-widgets/base",
            "_view_module_version": "1.2.0",
            "_view_name": "LayoutView",
            "align_content": null,
            "align_items": null,
            "align_self": null,
            "border": null,
            "bottom": null,
            "display": null,
            "flex": null,
            "flex_flow": null,
            "grid_area": null,
            "grid_auto_columns": null,
            "grid_auto_flow": null,
            "grid_auto_rows": null,
            "grid_column": null,
            "grid_gap": null,
            "grid_row": null,
            "grid_template_areas": null,
            "grid_template_columns": null,
            "grid_template_rows": null,
            "height": null,
            "justify_content": null,
            "justify_items": null,
            "left": null,
            "margin": null,
            "max_height": null,
            "max_width": null,
            "min_height": null,
            "min_width": null,
            "object_fit": null,
            "object_position": null,
            "order": null,
            "overflow": null,
            "overflow_x": null,
            "overflow_y": null,
            "padding": null,
            "right": null,
            "top": null,
            "visibility": null,
            "width": null
          }
        },
        "56824744d88c451e9513883e0fab366a": {
          "model_module": "@jupyter-widgets/controls",
          "model_module_version": "1.5.0",
          "model_name": "HTMLModel",
          "state": {
            "_dom_classes": [],
            "_model_module": "@jupyter-widgets/controls",
            "_model_module_version": "1.5.0",
            "_model_name": "HTMLModel",
            "_view_count": null,
            "_view_module": "@jupyter-widgets/controls",
            "_view_module_version": "1.5.0",
            "_view_name": "HTMLView",
            "description": "",
            "description_tooltip": null,
            "layout": "IPY_MODEL_8361983ba251430e9fd4bd59f42b27e7",
            "placeholder": "​",
            "style": "IPY_MODEL_41eebeac49f940d1a89484dacf8dc32e",
            "value": "Downloading builder script: 100%"
          }
        },
        "59ac39e569a64a1d85b5fc116eef3ec6": {
          "model_module": "@jupyter-widgets/controls",
          "model_module_version": "1.5.0",
          "model_name": "DescriptionStyleModel",
          "state": {
            "_model_module": "@jupyter-widgets/controls",
            "_model_module_version": "1.5.0",
            "_model_name": "DescriptionStyleModel",
            "_view_count": null,
            "_view_module": "@jupyter-widgets/base",
            "_view_module_version": "1.2.0",
            "_view_name": "StyleView",
            "description_width": ""
          }
        },
        "5b2350a5c5ac44878eef889f0a320e63": {
          "model_module": "@jupyter-widgets/controls",
          "model_module_version": "1.5.0",
          "model_name": "DescriptionStyleModel",
          "state": {
            "_model_module": "@jupyter-widgets/controls",
            "_model_module_version": "1.5.0",
            "_model_name": "DescriptionStyleModel",
            "_view_count": null,
            "_view_module": "@jupyter-widgets/base",
            "_view_module_version": "1.2.0",
            "_view_name": "StyleView",
            "description_width": ""
          }
        },
        "5b9ae700d48547039cf2a46fa35a70ea": {
          "model_module": "@jupyter-widgets/base",
          "model_module_version": "1.2.0",
          "model_name": "LayoutModel",
          "state": {
            "_model_module": "@jupyter-widgets/base",
            "_model_module_version": "1.2.0",
            "_model_name": "LayoutModel",
            "_view_count": null,
            "_view_module": "@jupyter-widgets/base",
            "_view_module_version": "1.2.0",
            "_view_name": "LayoutView",
            "align_content": null,
            "align_items": null,
            "align_self": null,
            "border": null,
            "bottom": null,
            "display": null,
            "flex": null,
            "flex_flow": null,
            "grid_area": null,
            "grid_auto_columns": null,
            "grid_auto_flow": null,
            "grid_auto_rows": null,
            "grid_column": null,
            "grid_gap": null,
            "grid_row": null,
            "grid_template_areas": null,
            "grid_template_columns": null,
            "grid_template_rows": null,
            "height": null,
            "justify_content": null,
            "justify_items": null,
            "left": null,
            "margin": null,
            "max_height": null,
            "max_width": null,
            "min_height": null,
            "min_width": null,
            "object_fit": null,
            "object_position": null,
            "order": null,
            "overflow": null,
            "overflow_x": null,
            "overflow_y": null,
            "padding": null,
            "right": null,
            "top": null,
            "visibility": null,
            "width": null
          }
        },
        "5e63fc25ca524e67b2bb6cbaf9984692": {
          "model_module": "@jupyter-widgets/base",
          "model_module_version": "1.2.0",
          "model_name": "LayoutModel",
          "state": {
            "_model_module": "@jupyter-widgets/base",
            "_model_module_version": "1.2.0",
            "_model_name": "LayoutModel",
            "_view_count": null,
            "_view_module": "@jupyter-widgets/base",
            "_view_module_version": "1.2.0",
            "_view_name": "LayoutView",
            "align_content": null,
            "align_items": null,
            "align_self": null,
            "border": null,
            "bottom": null,
            "display": null,
            "flex": null,
            "flex_flow": null,
            "grid_area": null,
            "grid_auto_columns": null,
            "grid_auto_flow": null,
            "grid_auto_rows": null,
            "grid_column": null,
            "grid_gap": null,
            "grid_row": null,
            "grid_template_areas": null,
            "grid_template_columns": null,
            "grid_template_rows": null,
            "height": null,
            "justify_content": null,
            "justify_items": null,
            "left": null,
            "margin": null,
            "max_height": null,
            "max_width": null,
            "min_height": null,
            "min_width": null,
            "object_fit": null,
            "object_position": null,
            "order": null,
            "overflow": null,
            "overflow_x": null,
            "overflow_y": null,
            "padding": null,
            "right": null,
            "top": null,
            "visibility": null,
            "width": null
          }
        },
        "6b1c98099e484db6b6ced7e067db8fc4": {
          "model_module": "@jupyter-widgets/base",
          "model_module_version": "1.2.0",
          "model_name": "LayoutModel",
          "state": {
            "_model_module": "@jupyter-widgets/base",
            "_model_module_version": "1.2.0",
            "_model_name": "LayoutModel",
            "_view_count": null,
            "_view_module": "@jupyter-widgets/base",
            "_view_module_version": "1.2.0",
            "_view_name": "LayoutView",
            "align_content": null,
            "align_items": null,
            "align_self": null,
            "border": null,
            "bottom": null,
            "display": null,
            "flex": null,
            "flex_flow": null,
            "grid_area": null,
            "grid_auto_columns": null,
            "grid_auto_flow": null,
            "grid_auto_rows": null,
            "grid_column": null,
            "grid_gap": null,
            "grid_row": null,
            "grid_template_areas": null,
            "grid_template_columns": null,
            "grid_template_rows": null,
            "height": null,
            "justify_content": null,
            "justify_items": null,
            "left": null,
            "margin": null,
            "max_height": null,
            "max_width": null,
            "min_height": null,
            "min_width": null,
            "object_fit": null,
            "object_position": null,
            "order": null,
            "overflow": null,
            "overflow_x": null,
            "overflow_y": null,
            "padding": null,
            "right": null,
            "top": null,
            "visibility": null,
            "width": null
          }
        },
        "71be3d9fbdaf4af6a7c33e7c2590a872": {
          "model_module": "@jupyter-widgets/controls",
          "model_module_version": "1.5.0",
          "model_name": "FloatProgressModel",
          "state": {
            "_dom_classes": [],
            "_model_module": "@jupyter-widgets/controls",
            "_model_module_version": "1.5.0",
            "_model_name": "FloatProgressModel",
            "_view_count": null,
            "_view_module": "@jupyter-widgets/controls",
            "_view_module_version": "1.5.0",
            "_view_name": "ProgressView",
            "bar_style": "danger",
            "description": "",
            "description_tooltip": null,
            "layout": "IPY_MODEL_c0615e8f021842729a813f72a8abf051",
            "max": 50000,
            "min": 0,
            "orientation": "horizontal",
            "style": "IPY_MODEL_80d5940b10324edd806c59e9bdf4f840",
            "value": 49999
          }
        },
        "72aa8c9afcfb43828543dc359293f4c9": {
          "model_module": "@jupyter-widgets/base",
          "model_module_version": "1.2.0",
          "model_name": "LayoutModel",
          "state": {
            "_model_module": "@jupyter-widgets/base",
            "_model_module_version": "1.2.0",
            "_model_name": "LayoutModel",
            "_view_count": null,
            "_view_module": "@jupyter-widgets/base",
            "_view_module_version": "1.2.0",
            "_view_name": "LayoutView",
            "align_content": null,
            "align_items": null,
            "align_self": null,
            "border": null,
            "bottom": null,
            "display": null,
            "flex": null,
            "flex_flow": null,
            "grid_area": null,
            "grid_auto_columns": null,
            "grid_auto_flow": null,
            "grid_auto_rows": null,
            "grid_column": null,
            "grid_gap": null,
            "grid_row": null,
            "grid_template_areas": null,
            "grid_template_columns": null,
            "grid_template_rows": null,
            "height": null,
            "justify_content": null,
            "justify_items": null,
            "left": null,
            "margin": null,
            "max_height": null,
            "max_width": null,
            "min_height": null,
            "min_width": null,
            "object_fit": null,
            "object_position": null,
            "order": null,
            "overflow": null,
            "overflow_x": null,
            "overflow_y": null,
            "padding": null,
            "right": null,
            "top": null,
            "visibility": null,
            "width": null
          }
        },
        "80d5940b10324edd806c59e9bdf4f840": {
          "model_module": "@jupyter-widgets/controls",
          "model_module_version": "1.5.0",
          "model_name": "ProgressStyleModel",
          "state": {
            "_model_module": "@jupyter-widgets/controls",
            "_model_module_version": "1.5.0",
            "_model_name": "ProgressStyleModel",
            "_view_count": null,
            "_view_module": "@jupyter-widgets/base",
            "_view_module_version": "1.2.0",
            "_view_name": "StyleView",
            "bar_color": null,
            "description_width": ""
          }
        },
        "8361983ba251430e9fd4bd59f42b27e7": {
          "model_module": "@jupyter-widgets/base",
          "model_module_version": "1.2.0",
          "model_name": "LayoutModel",
          "state": {
            "_model_module": "@jupyter-widgets/base",
            "_model_module_version": "1.2.0",
            "_model_name": "LayoutModel",
            "_view_count": null,
            "_view_module": "@jupyter-widgets/base",
            "_view_module_version": "1.2.0",
            "_view_name": "LayoutView",
            "align_content": null,
            "align_items": null,
            "align_self": null,
            "border": null,
            "bottom": null,
            "display": null,
            "flex": null,
            "flex_flow": null,
            "grid_area": null,
            "grid_auto_columns": null,
            "grid_auto_flow": null,
            "grid_auto_rows": null,
            "grid_column": null,
            "grid_gap": null,
            "grid_row": null,
            "grid_template_areas": null,
            "grid_template_columns": null,
            "grid_template_rows": null,
            "height": null,
            "justify_content": null,
            "justify_items": null,
            "left": null,
            "margin": null,
            "max_height": null,
            "max_width": null,
            "min_height": null,
            "min_width": null,
            "object_fit": null,
            "object_position": null,
            "order": null,
            "overflow": null,
            "overflow_x": null,
            "overflow_y": null,
            "padding": null,
            "right": null,
            "top": null,
            "visibility": null,
            "width": null
          }
        },
        "8dc49ab5754a48a29e14c1b93f697835": {
          "model_module": "@jupyter-widgets/controls",
          "model_module_version": "1.5.0",
          "model_name": "HBoxModel",
          "state": {
            "_dom_classes": [],
            "_model_module": "@jupyter-widgets/controls",
            "_model_module_version": "1.5.0",
            "_model_name": "HBoxModel",
            "_view_count": null,
            "_view_module": "@jupyter-widgets/controls",
            "_view_module_version": "1.5.0",
            "_view_name": "HBoxView",
            "box_style": "",
            "children": [
              "IPY_MODEL_aeadb5cba0d3480d84316c327eeecb35",
              "IPY_MODEL_71be3d9fbdaf4af6a7c33e7c2590a872",
              "IPY_MODEL_05ab9bbd11a84630ba83ec19b598d4e4"
            ],
            "layout": "IPY_MODEL_4f8e93b6c6354434997475440bd6b0ec"
          }
        },
        "96368ebe17894a789353ccc74c8b3c90": {
          "model_module": "@jupyter-widgets/controls",
          "model_module_version": "1.5.0",
          "model_name": "FloatProgressModel",
          "state": {
            "_dom_classes": [],
            "_model_module": "@jupyter-widgets/controls",
            "_model_module_version": "1.5.0",
            "_model_name": "FloatProgressModel",
            "_view_count": null,
            "_view_module": "@jupyter-widgets/controls",
            "_view_module_version": "1.5.0",
            "_view_name": "ProgressView",
            "bar_style": "success",
            "description": "",
            "description_tooltip": null,
            "layout": "IPY_MODEL_c610b0ad02634ddf8f19b0a8ab9048e5",
            "max": 4580,
            "min": 0,
            "orientation": "horizontal",
            "style": "IPY_MODEL_a4b2f0bd3d6344f2856e39c275c0f9aa",
            "value": 4580
          }
        },
        "a4b2f0bd3d6344f2856e39c275c0f9aa": {
          "model_module": "@jupyter-widgets/controls",
          "model_module_version": "1.5.0",
          "model_name": "ProgressStyleModel",
          "state": {
            "_model_module": "@jupyter-widgets/controls",
            "_model_module_version": "1.5.0",
            "_model_name": "ProgressStyleModel",
            "_view_count": null,
            "_view_module": "@jupyter-widgets/base",
            "_view_module_version": "1.2.0",
            "_view_name": "StyleView",
            "bar_color": null,
            "description_width": ""
          }
        },
        "aeadb5cba0d3480d84316c327eeecb35": {
          "model_module": "@jupyter-widgets/controls",
          "model_module_version": "1.5.0",
          "model_name": "HTMLModel",
          "state": {
            "_dom_classes": [],
            "_model_module": "@jupyter-widgets/controls",
            "_model_module_version": "1.5.0",
            "_model_name": "HTMLModel",
            "_view_count": null,
            "_view_module": "@jupyter-widgets/controls",
            "_view_module_version": "1.5.0",
            "_view_name": "HTMLView",
            "description": "",
            "description_tooltip": null,
            "layout": "IPY_MODEL_6b1c98099e484db6b6ced7e067db8fc4",
            "placeholder": "​",
            "style": "IPY_MODEL_59ac39e569a64a1d85b5fc116eef3ec6",
            "value": "100%"
          }
        },
        "c0615e8f021842729a813f72a8abf051": {
          "model_module": "@jupyter-widgets/base",
          "model_module_version": "1.2.0",
          "model_name": "LayoutModel",
          "state": {
            "_model_module": "@jupyter-widgets/base",
            "_model_module_version": "1.2.0",
            "_model_name": "LayoutModel",
            "_view_count": null,
            "_view_module": "@jupyter-widgets/base",
            "_view_module_version": "1.2.0",
            "_view_name": "LayoutView",
            "align_content": null,
            "align_items": null,
            "align_self": null,
            "border": null,
            "bottom": null,
            "display": null,
            "flex": null,
            "flex_flow": null,
            "grid_area": null,
            "grid_auto_columns": null,
            "grid_auto_flow": null,
            "grid_auto_rows": null,
            "grid_column": null,
            "grid_gap": null,
            "grid_row": null,
            "grid_template_areas": null,
            "grid_template_columns": null,
            "grid_template_rows": null,
            "height": null,
            "justify_content": null,
            "justify_items": null,
            "left": null,
            "margin": null,
            "max_height": null,
            "max_width": null,
            "min_height": null,
            "min_width": null,
            "object_fit": null,
            "object_position": null,
            "order": null,
            "overflow": null,
            "overflow_x": null,
            "overflow_y": null,
            "padding": null,
            "right": null,
            "top": null,
            "visibility": null,
            "width": null
          }
        },
        "c610b0ad02634ddf8f19b0a8ab9048e5": {
          "model_module": "@jupyter-widgets/base",
          "model_module_version": "1.2.0",
          "model_name": "LayoutModel",
          "state": {
            "_model_module": "@jupyter-widgets/base",
            "_model_module_version": "1.2.0",
            "_model_name": "LayoutModel",
            "_view_count": null,
            "_view_module": "@jupyter-widgets/base",
            "_view_module_version": "1.2.0",
            "_view_name": "LayoutView",
            "align_content": null,
            "align_items": null,
            "align_self": null,
            "border": null,
            "bottom": null,
            "display": null,
            "flex": null,
            "flex_flow": null,
            "grid_area": null,
            "grid_auto_columns": null,
            "grid_auto_flow": null,
            "grid_auto_rows": null,
            "grid_column": null,
            "grid_gap": null,
            "grid_row": null,
            "grid_template_areas": null,
            "grid_template_columns": null,
            "grid_template_rows": null,
            "height": null,
            "justify_content": null,
            "justify_items": null,
            "left": null,
            "margin": null,
            "max_height": null,
            "max_width": null,
            "min_height": null,
            "min_width": null,
            "object_fit": null,
            "object_position": null,
            "order": null,
            "overflow": null,
            "overflow_x": null,
            "overflow_y": null,
            "padding": null,
            "right": null,
            "top": null,
            "visibility": null,
            "width": null
          }
        },
        "e03ed0ffab44459ea2b4108752da24c5": {
          "model_module": "@jupyter-widgets/controls",
          "model_module_version": "1.5.0",
          "model_name": "DescriptionStyleModel",
          "state": {
            "_model_module": "@jupyter-widgets/controls",
            "_model_module_version": "1.5.0",
            "_model_name": "DescriptionStyleModel",
            "_view_count": null,
            "_view_module": "@jupyter-widgets/base",
            "_view_module_version": "1.2.0",
            "_view_name": "StyleView",
            "description_width": ""
          }
        },
        "f0234f07e3b542d1aaebc22085cabd28": {
          "model_module": "@jupyter-widgets/controls",
          "model_module_version": "1.5.0",
          "model_name": "FloatProgressModel",
          "state": {
            "_dom_classes": [],
            "_model_module": "@jupyter-widgets/controls",
            "_model_module_version": "1.5.0",
            "_model_name": "FloatProgressModel",
            "_view_count": null,
            "_view_module": "@jupyter-widgets/controls",
            "_view_module_version": "1.5.0",
            "_view_name": "ProgressView",
            "bar_style": "success",
            "description": "",
            "description_tooltip": null,
            "layout": "IPY_MODEL_3d68b89be9c54824a0b04754c101e5d9",
            "max": 1,
            "min": 0,
            "orientation": "horizontal",
            "style": "IPY_MODEL_0c5636610ccc489b95fc64f3af49d1bf",
            "value": 0
          }
        },
        "f6d49a921dca40c19521f9466a84675c": {
          "model_module": "@jupyter-widgets/controls",
          "model_module_version": "1.5.0",
          "model_name": "DescriptionStyleModel",
          "state": {
            "_model_module": "@jupyter-widgets/controls",
            "_model_module_version": "1.5.0",
            "_model_name": "DescriptionStyleModel",
            "_view_count": null,
            "_view_module": "@jupyter-widgets/base",
            "_view_module_version": "1.2.0",
            "_view_name": "StyleView",
            "description_width": ""
          }
        },
        "f74e9142eaa3483e8f7f6d0c07dc29cb": {
          "model_module": "@jupyter-widgets/base",
          "model_module_version": "1.2.0",
          "model_name": "LayoutModel",
          "state": {
            "_model_module": "@jupyter-widgets/base",
            "_model_module_version": "1.2.0",
            "_model_name": "LayoutModel",
            "_view_count": null,
            "_view_module": "@jupyter-widgets/base",
            "_view_module_version": "1.2.0",
            "_view_name": "LayoutView",
            "align_content": null,
            "align_items": null,
            "align_self": null,
            "border": null,
            "bottom": null,
            "display": null,
            "flex": null,
            "flex_flow": null,
            "grid_area": null,
            "grid_auto_columns": null,
            "grid_auto_flow": null,
            "grid_auto_rows": null,
            "grid_column": null,
            "grid_gap": null,
            "grid_row": null,
            "grid_template_areas": null,
            "grid_template_columns": null,
            "grid_template_rows": null,
            "height": null,
            "justify_content": null,
            "justify_items": null,
            "left": null,
            "margin": null,
            "max_height": null,
            "max_width": null,
            "min_height": null,
            "min_width": null,
            "object_fit": null,
            "object_position": null,
            "order": null,
            "overflow": null,
            "overflow_x": null,
            "overflow_y": null,
            "padding": null,
            "right": null,
            "top": null,
            "visibility": null,
            "width": null
          }
        },
        "f74f17bead5f494bbd94f9c3f3f44150": {
          "model_module": "@jupyter-widgets/controls",
          "model_module_version": "1.5.0",
          "model_name": "HBoxModel",
          "state": {
            "_dom_classes": [],
            "_model_module": "@jupyter-widgets/controls",
            "_model_module_version": "1.5.0",
            "_model_name": "HBoxModel",
            "_view_count": null,
            "_view_module": "@jupyter-widgets/controls",
            "_view_module_version": "1.5.0",
            "_view_name": "HBoxView",
            "box_style": "",
            "children": [
              "IPY_MODEL_2ccafd9b60be488fb0427ff8a5aae5aa",
              "IPY_MODEL_f0234f07e3b542d1aaebc22085cabd28",
              "IPY_MODEL_00b74f4f70a6412faddadb3eb800fe00"
            ],
            "layout": "IPY_MODEL_f74e9142eaa3483e8f7f6d0c07dc29cb"
          }
        }
      }
    }
  },
  "nbformat": 4,
  "nbformat_minor": 0
}
